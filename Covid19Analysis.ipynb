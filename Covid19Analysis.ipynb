{
  "nbformat": 4,
  "nbformat_minor": 0,
  "metadata": {
    "colab": {
      "provenance": [],
      "include_colab_link": true
    },
    "kernelspec": {
      "name": "python3",
      "display_name": "Python 3"
    },
    "language_info": {
      "name": "python"
    }
  },
  "cells": [
    {
      "cell_type": "markdown",
      "metadata": {
        "id": "view-in-github",
        "colab_type": "text"
      },
      "source": [
        "<a href=\"https://colab.research.google.com/github/Anisha2411/Covid-19-Exploratory-Data-Analysis/blob/main/Covid19Analysis.ipynb\" target=\"_parent\"><img src=\"https://colab.research.google.com/assets/colab-badge.svg\" alt=\"Open In Colab\"/></a>"
      ]
    },
    {
      "cell_type": "code",
      "execution_count": null,
      "metadata": {
        "id": "CEsTGr4zia6p"
      },
      "outputs": [],
      "source": [
        "import numpy as np"
      ]
    },
    {
      "cell_type": "code",
      "source": [
        "import pandas as pd"
      ],
      "metadata": {
        "id": "GnxchAzajKJL"
      },
      "execution_count": null,
      "outputs": []
    },
    {
      "cell_type": "code",
      "source": [
        "import matplotlib as mp\n"
      ],
      "metadata": {
        "id": "1knnjjEKjOXL"
      },
      "execution_count": null,
      "outputs": []
    },
    {
      "cell_type": "code",
      "source": [
        "import matplotlib.pyplot as plt"
      ],
      "metadata": {
        "id": "wuL16xXAgLJb"
      },
      "execution_count": null,
      "outputs": []
    },
    {
      "cell_type": "markdown",
      "source": [
        "# LOADING CSV FILE"
      ],
      "metadata": {
        "id": "64RXs70T4ysc"
      }
    },
    {
      "cell_type": "code",
      "source": [
        "df=pd.read_csv(r\"/content/COVID clinical trials (1).csv\")"
      ],
      "metadata": {
        "id": "J_i_Ms8sjT8Y"
      },
      "execution_count": null,
      "outputs": []
    },
    {
      "cell_type": "code",
      "source": [
        "print(df)"
      ],
      "metadata": {
        "colab": {
          "base_uri": "https://localhost:8080/"
        },
        "id": "AZ3ZzNPtj2kO",
        "outputId": "c2e98398-2a3f-4619-ca3a-e705f95b0278"
      },
      "execution_count": null,
      "outputs": [
        {
          "output_type": "stream",
          "name": "stdout",
          "text": [
            "      Rank   NCT Number                                              Title  \\\n",
            "0        1  NCT04785898  Diagnostic Performance of the ID Now™ COVID-19...   \n",
            "1        2  NCT04595136  Study to Evaluate the Efficacy of COVID19-0001...   \n",
            "2        3  NCT04395482  Lung CT Scan Analysis of SARS-CoV2 Induced Lun...   \n",
            "3        4  NCT04416061  The Role of a Private Hospital in Hong Kong Am...   \n",
            "4        5  NCT04395924         Maternal-foetal Transmission of SARS-Cov-2   \n",
            "...    ...          ...                                                ...   \n",
            "5778  5779  NCT04011644  Mobile Health for Alcohol Use Disorders in Cli...   \n",
            "5779  5780  NCT04681339  Antibiotic Prescription in Children Hospitaliz...   \n",
            "5780  5781  NCT04740229  Moderate-intensity Flow-based Yoga Effects on ...   \n",
            "5781  5782  NCT04804917           3-year Follow-up of the Mind My Mind RCT   \n",
            "5782  5783  NCT04680000  Chronic Pain Management In Primary Care Using ...   \n",
            "\n",
            "           Acronym                  Status         Study Results  \\\n",
            "0      COVID-IDNow  Active, not recruiting  No Results Available   \n",
            "1         COVID-19      Not yet recruiting  No Results Available   \n",
            "2      TAC-COVID19              Recruiting  No Results Available   \n",
            "3         COVID-19  Active, not recruiting  No Results Available   \n",
            "4     TMF-COVID-19              Recruiting  No Results Available   \n",
            "...            ...                     ...                   ...   \n",
            "5778           NaN              Recruiting  No Results Available   \n",
            "5779           NaN      Not yet recruiting  No Results Available   \n",
            "5780           NaN              Recruiting  No Results Available   \n",
            "5781  MindMyMindFU              Recruiting  No Results Available   \n",
            "5782           NaN      Not yet recruiting  No Results Available   \n",
            "\n",
            "                                             Conditions  \\\n",
            "0                                               Covid19   \n",
            "1                                  SARS-CoV-2 Infection   \n",
            "2                                               covid19   \n",
            "3                                                 COVID   \n",
            "4     Maternal Fetal Infection Transmission|COVID-19...   \n",
            "...                                                 ...   \n",
            "5778                      Alcohol Drinking|Telemedicine   \n",
            "5779  Community Acquired Pneumonia in Children|Antib...   \n",
            "5780                               Stress|Psychological   \n",
            "5781  Emotional Problem|Anxiety Disorder of Childhoo...   \n",
            "5782                                       Chronic Pain   \n",
            "\n",
            "                                          Interventions  \\\n",
            "0      Diagnostic Test: ID Now™ COVID-19 Screening Test   \n",
            "1       Drug: Drug COVID19-0001-USR|Drug: normal saline   \n",
            "2     Other: Lung CT scan analysis in COVID-19 patients   \n",
            "3             Diagnostic Test: COVID 19 Diagnostic Test   \n",
            "4     Diagnostic Test: Diagnosis of SARS-Cov2 by RT-...   \n",
            "...                                                 ...   \n",
            "5778  Behavioral: A-CHESS self-monitored|Behavioral:...   \n",
            "5779  Other: Antibiotic treatment|Other: No antibiot...   \n",
            "5780                                   Behavioral: Yoga   \n",
            "5781                                                NaN   \n",
            "5782  Behavioral: Brief Cognitive Behavioral Therapy...   \n",
            "\n",
            "                                       Outcome Measures  \\\n",
            "0     Evaluate the diagnostic performance of the ID ...   \n",
            "1     Change on viral load results from baseline aft...   \n",
            "2     A qualitative analysis of parenchymal lung dam...   \n",
            "3     Proportion of asymptomatic subjects|Proportion...   \n",
            "4     COVID-19 by positive PCR in cord blood and / o...   \n",
            "...                                                 ...   \n",
            "5778  Number of risky drinking days|Number of patien...   \n",
            "5779  Antibiotic treatment rates in hospitalized chi...   \n",
            "5780  Perceived Stress|Task switching paradigm|Digit...   \n",
            "5781  The child's impact of mental health problems r...   \n",
            "5782  Defense and Veterans Pain Rating Scale (DVPRS)...   \n",
            "\n",
            "                                  Sponsor/Collaborators  ...  \\\n",
            "0                 Groupe Hospitalier Paris Saint Joseph  ...   \n",
            "1                            United Medical Specialties  ...   \n",
            "2                          University of Milano Bicocca  ...   \n",
            "3                       Hong Kong Sanatorium & Hospital  ...   \n",
            "4     Centre Hospitalier Régional d'Orléans|Centre d...  ...   \n",
            "...                                                 ...  ...   \n",
            "5778  University of Wisconsin, Madison|National Inst...  ...   \n",
            "5779  ARCIM Institute Academic Research in Complemen...  ...   \n",
            "5780         University of Illinois at Urbana-Champaign  ...   \n",
            "5781  Mental Health Services in the Capital Region, ...  ...   \n",
            "5782  The University of Texas Health Science Center ...  ...   \n",
            "\n",
            "                                              Other IDs         Start Date  \\\n",
            "0                                           COVID-IDNow   November 9, 2020   \n",
            "1                                      COVID19-0001-USR   November 2, 2020   \n",
            "2                                           TAC-COVID19        May 7, 2020   \n",
            "3                                            RC-2020-08       May 25, 2020   \n",
            "4                                          CHRO-2020-10        May 5, 2020   \n",
            "...                                                 ...                ...   \n",
            "5778  2019-0337|R01AA024150|A532007|SMPH/FAMILY MED/...     March 23, 2020   \n",
            "5779                                             PKA-03         April 2021   \n",
            "5780                                              21584  February 10, 2021   \n",
            "5781                         MHSCRDenmark, F-61502-03-1     March 22, 2021   \n",
            "5782                                       HSC20200520H      February 2021   \n",
            "\n",
            "     Primary Completion Date    Completion Date       First Posted  \\\n",
            "0          December 22, 2020     April 30, 2021      March 8, 2021   \n",
            "1          December 15, 2020   January 29, 2021   October 20, 2020   \n",
            "2              June 15, 2021      June 15, 2021       May 20, 2020   \n",
            "3              July 31, 2020    August 31, 2020       June 4, 2020   \n",
            "4                   May 2021           May 2021       May 20, 2020   \n",
            "...                      ...                ...                ...   \n",
            "5778             August 2022         April 2023       July 8, 2019   \n",
            "5779           November 2024      December 2024  December 23, 2020   \n",
            "5780               July 2021          July 2021   February 5, 2021   \n",
            "5781            May 31, 2022  December 31, 2022     March 18, 2021   \n",
            "5782           February 2024      February 2025  December 22, 2020   \n",
            "\n",
            "     Results First Posted Last Update Posted  \\\n",
            "0                     NaN      March 8, 2021   \n",
            "1                     NaN   October 20, 2020   \n",
            "2                     NaN   November 9, 2020   \n",
            "3                     NaN       June 4, 2020   \n",
            "4                     NaN       June 4, 2020   \n",
            "...                   ...                ...   \n",
            "5778                  NaN      April 2, 2021   \n",
            "5779                  NaN  February 10, 2021   \n",
            "5780                  NaN  February 24, 2021   \n",
            "5781                  NaN      April 1, 2021   \n",
            "5782                  NaN  December 22, 2020   \n",
            "\n",
            "                                              Locations Study Documents  \\\n",
            "0     Groupe Hospitalier Paris Saint-Joseph, Paris, ...             NaN   \n",
            "1          Cimedical, Barranquilla, Atlantico, Colombia             NaN   \n",
            "2     Ospedale Papa Giovanni XXIII, Bergamo, Italy|P...             NaN   \n",
            "3     Hong Kong Sanatorium & Hospital, Hong Kong, Ho...             NaN   \n",
            "4                          CHR Orléans, Orléans, France             NaN   \n",
            "...                                                 ...             ...   \n",
            "5778  UW Health at the American Center, Madison, Wis...             NaN   \n",
            "5779  Die Filderklinik, Filderstadt, Baden-Württembe...             NaN   \n",
            "5780  University of Illinois at Urbana-Champaign, Ur...             NaN   \n",
            "5781  Mental Health Services in the Capital Region, ...             NaN   \n",
            "5782  Uniformed Services University for the Health S...             NaN   \n",
            "\n",
            "                                              URL  \n",
            "0     https://ClinicalTrials.gov/show/NCT04785898  \n",
            "1     https://ClinicalTrials.gov/show/NCT04595136  \n",
            "2     https://ClinicalTrials.gov/show/NCT04395482  \n",
            "3     https://ClinicalTrials.gov/show/NCT04416061  \n",
            "4     https://ClinicalTrials.gov/show/NCT04395924  \n",
            "...                                           ...  \n",
            "5778  https://ClinicalTrials.gov/show/NCT04011644  \n",
            "5779  https://ClinicalTrials.gov/show/NCT04681339  \n",
            "5780  https://ClinicalTrials.gov/show/NCT04740229  \n",
            "5781  https://ClinicalTrials.gov/show/NCT04804917  \n",
            "5782  https://ClinicalTrials.gov/show/NCT04680000  \n",
            "\n",
            "[5783 rows x 27 columns]\n"
          ]
        }
      ]
    },
    {
      "cell_type": "markdown",
      "source": [
        "# UNDERSTANDING THE DATA"
      ],
      "metadata": {
        "id": "ObNXfMP14-BF"
      }
    },
    {
      "cell_type": "code",
      "source": [
        "print(df.info)"
      ],
      "metadata": {
        "colab": {
          "base_uri": "https://localhost:8080/"
        },
        "id": "oGXaOkzZj62b",
        "outputId": "d2811fd9-f32b-44b5-c410-b0befb9a99e3"
      },
      "execution_count": null,
      "outputs": [
        {
          "output_type": "stream",
          "name": "stdout",
          "text": [
            "<bound method DataFrame.info of       Rank   NCT Number                                              Title  \\\n",
            "0        1  NCT04785898  Diagnostic Performance of the ID Now™ COVID-19...   \n",
            "1        2  NCT04595136  Study to Evaluate the Efficacy of COVID19-0001...   \n",
            "2        3  NCT04395482  Lung CT Scan Analysis of SARS-CoV2 Induced Lun...   \n",
            "3        4  NCT04416061  The Role of a Private Hospital in Hong Kong Am...   \n",
            "4        5  NCT04395924         Maternal-foetal Transmission of SARS-Cov-2   \n",
            "...    ...          ...                                                ...   \n",
            "5778  5779  NCT04011644  Mobile Health for Alcohol Use Disorders in Cli...   \n",
            "5779  5780  NCT04681339  Antibiotic Prescription in Children Hospitaliz...   \n",
            "5780  5781  NCT04740229  Moderate-intensity Flow-based Yoga Effects on ...   \n",
            "5781  5782  NCT04804917           3-year Follow-up of the Mind My Mind RCT   \n",
            "5782  5783  NCT04680000  Chronic Pain Management In Primary Care Using ...   \n",
            "\n",
            "           Acronym                  Status         Study Results  \\\n",
            "0      COVID-IDNow  Active, not recruiting  No Results Available   \n",
            "1         COVID-19      Not yet recruiting  No Results Available   \n",
            "2      TAC-COVID19              Recruiting  No Results Available   \n",
            "3         COVID-19  Active, not recruiting  No Results Available   \n",
            "4     TMF-COVID-19              Recruiting  No Results Available   \n",
            "...            ...                     ...                   ...   \n",
            "5778           NaN              Recruiting  No Results Available   \n",
            "5779           NaN      Not yet recruiting  No Results Available   \n",
            "5780           NaN              Recruiting  No Results Available   \n",
            "5781  MindMyMindFU              Recruiting  No Results Available   \n",
            "5782           NaN      Not yet recruiting  No Results Available   \n",
            "\n",
            "                                             Conditions  \\\n",
            "0                                               Covid19   \n",
            "1                                  SARS-CoV-2 Infection   \n",
            "2                                               covid19   \n",
            "3                                                 COVID   \n",
            "4     Maternal Fetal Infection Transmission|COVID-19...   \n",
            "...                                                 ...   \n",
            "5778                      Alcohol Drinking|Telemedicine   \n",
            "5779  Community Acquired Pneumonia in Children|Antib...   \n",
            "5780                               Stress|Psychological   \n",
            "5781  Emotional Problem|Anxiety Disorder of Childhoo...   \n",
            "5782                                       Chronic Pain   \n",
            "\n",
            "                                          Interventions  \\\n",
            "0      Diagnostic Test: ID Now™ COVID-19 Screening Test   \n",
            "1       Drug: Drug COVID19-0001-USR|Drug: normal saline   \n",
            "2     Other: Lung CT scan analysis in COVID-19 patients   \n",
            "3             Diagnostic Test: COVID 19 Diagnostic Test   \n",
            "4     Diagnostic Test: Diagnosis of SARS-Cov2 by RT-...   \n",
            "...                                                 ...   \n",
            "5778  Behavioral: A-CHESS self-monitored|Behavioral:...   \n",
            "5779  Other: Antibiotic treatment|Other: No antibiot...   \n",
            "5780                                   Behavioral: Yoga   \n",
            "5781                                                NaN   \n",
            "5782  Behavioral: Brief Cognitive Behavioral Therapy...   \n",
            "\n",
            "                                       Outcome Measures  \\\n",
            "0     Evaluate the diagnostic performance of the ID ...   \n",
            "1     Change on viral load results from baseline aft...   \n",
            "2     A qualitative analysis of parenchymal lung dam...   \n",
            "3     Proportion of asymptomatic subjects|Proportion...   \n",
            "4     COVID-19 by positive PCR in cord blood and / o...   \n",
            "...                                                 ...   \n",
            "5778  Number of risky drinking days|Number of patien...   \n",
            "5779  Antibiotic treatment rates in hospitalized chi...   \n",
            "5780  Perceived Stress|Task switching paradigm|Digit...   \n",
            "5781  The child's impact of mental health problems r...   \n",
            "5782  Defense and Veterans Pain Rating Scale (DVPRS)...   \n",
            "\n",
            "                                  Sponsor/Collaborators  ...  \\\n",
            "0                 Groupe Hospitalier Paris Saint Joseph  ...   \n",
            "1                            United Medical Specialties  ...   \n",
            "2                          University of Milano Bicocca  ...   \n",
            "3                       Hong Kong Sanatorium & Hospital  ...   \n",
            "4     Centre Hospitalier Régional d'Orléans|Centre d...  ...   \n",
            "...                                                 ...  ...   \n",
            "5778  University of Wisconsin, Madison|National Inst...  ...   \n",
            "5779  ARCIM Institute Academic Research in Complemen...  ...   \n",
            "5780         University of Illinois at Urbana-Champaign  ...   \n",
            "5781  Mental Health Services in the Capital Region, ...  ...   \n",
            "5782  The University of Texas Health Science Center ...  ...   \n",
            "\n",
            "                                              Other IDs         Start Date  \\\n",
            "0                                           COVID-IDNow   November 9, 2020   \n",
            "1                                      COVID19-0001-USR   November 2, 2020   \n",
            "2                                           TAC-COVID19        May 7, 2020   \n",
            "3                                            RC-2020-08       May 25, 2020   \n",
            "4                                          CHRO-2020-10        May 5, 2020   \n",
            "...                                                 ...                ...   \n",
            "5778  2019-0337|R01AA024150|A532007|SMPH/FAMILY MED/...     March 23, 2020   \n",
            "5779                                             PKA-03         April 2021   \n",
            "5780                                              21584  February 10, 2021   \n",
            "5781                         MHSCRDenmark, F-61502-03-1     March 22, 2021   \n",
            "5782                                       HSC20200520H      February 2021   \n",
            "\n",
            "     Primary Completion Date    Completion Date       First Posted  \\\n",
            "0          December 22, 2020     April 30, 2021      March 8, 2021   \n",
            "1          December 15, 2020   January 29, 2021   October 20, 2020   \n",
            "2              June 15, 2021      June 15, 2021       May 20, 2020   \n",
            "3              July 31, 2020    August 31, 2020       June 4, 2020   \n",
            "4                   May 2021           May 2021       May 20, 2020   \n",
            "...                      ...                ...                ...   \n",
            "5778             August 2022         April 2023       July 8, 2019   \n",
            "5779           November 2024      December 2024  December 23, 2020   \n",
            "5780               July 2021          July 2021   February 5, 2021   \n",
            "5781            May 31, 2022  December 31, 2022     March 18, 2021   \n",
            "5782           February 2024      February 2025  December 22, 2020   \n",
            "\n",
            "     Results First Posted Last Update Posted  \\\n",
            "0                     NaN      March 8, 2021   \n",
            "1                     NaN   October 20, 2020   \n",
            "2                     NaN   November 9, 2020   \n",
            "3                     NaN       June 4, 2020   \n",
            "4                     NaN       June 4, 2020   \n",
            "...                   ...                ...   \n",
            "5778                  NaN      April 2, 2021   \n",
            "5779                  NaN  February 10, 2021   \n",
            "5780                  NaN  February 24, 2021   \n",
            "5781                  NaN      April 1, 2021   \n",
            "5782                  NaN  December 22, 2020   \n",
            "\n",
            "                                              Locations Study Documents  \\\n",
            "0     Groupe Hospitalier Paris Saint-Joseph, Paris, ...             NaN   \n",
            "1          Cimedical, Barranquilla, Atlantico, Colombia             NaN   \n",
            "2     Ospedale Papa Giovanni XXIII, Bergamo, Italy|P...             NaN   \n",
            "3     Hong Kong Sanatorium & Hospital, Hong Kong, Ho...             NaN   \n",
            "4                          CHR Orléans, Orléans, France             NaN   \n",
            "...                                                 ...             ...   \n",
            "5778  UW Health at the American Center, Madison, Wis...             NaN   \n",
            "5779  Die Filderklinik, Filderstadt, Baden-Württembe...             NaN   \n",
            "5780  University of Illinois at Urbana-Champaign, Ur...             NaN   \n",
            "5781  Mental Health Services in the Capital Region, ...             NaN   \n",
            "5782  Uniformed Services University for the Health S...             NaN   \n",
            "\n",
            "                                              URL  \n",
            "0     https://ClinicalTrials.gov/show/NCT04785898  \n",
            "1     https://ClinicalTrials.gov/show/NCT04595136  \n",
            "2     https://ClinicalTrials.gov/show/NCT04395482  \n",
            "3     https://ClinicalTrials.gov/show/NCT04416061  \n",
            "4     https://ClinicalTrials.gov/show/NCT04395924  \n",
            "...                                           ...  \n",
            "5778  https://ClinicalTrials.gov/show/NCT04011644  \n",
            "5779  https://ClinicalTrials.gov/show/NCT04681339  \n",
            "5780  https://ClinicalTrials.gov/show/NCT04740229  \n",
            "5781  https://ClinicalTrials.gov/show/NCT04804917  \n",
            "5782  https://ClinicalTrials.gov/show/NCT04680000  \n",
            "\n",
            "[5783 rows x 27 columns]>\n"
          ]
        }
      ]
    },
    {
      "cell_type": "code",
      "source": [
        "print(df.describe())"
      ],
      "metadata": {
        "colab": {
          "base_uri": "https://localhost:8080/"
        },
        "id": "h6kzHoXpj7D9",
        "outputId": "c1974355-8d05-4d47-bfde-7a8a1e3aea82"
      },
      "execution_count": null,
      "outputs": [
        {
          "output_type": "stream",
          "name": "stdout",
          "text": [
            "              Rank    Enrollment\n",
            "count  5783.000000  5.749000e+03\n",
            "mean   2892.000000  1.831949e+04\n",
            "std    1669.552635  4.045437e+05\n",
            "min       1.000000  0.000000e+00\n",
            "25%    1446.500000  6.000000e+01\n",
            "50%    2892.000000  1.700000e+02\n",
            "75%    4337.500000  5.600000e+02\n",
            "max    5783.000000  2.000000e+07\n"
          ]
        }
      ]
    },
    {
      "cell_type": "code",
      "source": [
        "print(df.describe(include=\"object\"))"
      ],
      "metadata": {
        "colab": {
          "base_uri": "https://localhost:8080/"
        },
        "id": "k_aCepR-kL7p",
        "outputId": "e9d985df-49e8-425c-dce4-526abb5336cf"
      },
      "execution_count": null,
      "outputs": [
        {
          "output_type": "stream",
          "name": "stdout",
          "text": [
            "         NCT Number                                              Title  \\\n",
            "count          5783                                               5783   \n",
            "unique         5783                                               5775   \n",
            "top     NCT04680000  Acalabrutinib Study With Best Supportive Care ...   \n",
            "freq              1                                                  2   \n",
            "\n",
            "         Acronym      Status         Study Results Conditions  \\\n",
            "count       2480        5783                  5783       5783   \n",
            "unique      2338          12                     2       3067   \n",
            "top     COVID-19  Recruiting  No Results Available   COVID-19   \n",
            "freq          47        2805                  5747        720   \n",
            "\n",
            "                 Interventions Outcome Measures  \\\n",
            "count                     4897             5748   \n",
            "unique                    4337             5687   \n",
            "top     Other: No intervention        Mortality   \n",
            "freq                        32                5   \n",
            "\n",
            "                          Sponsor/Collaborators Gender  ... Other IDs  \\\n",
            "count                                      5783   5773  ...      5782   \n",
            "unique                                     3631      3  ...      5734   \n",
            "top     Assistance Publique - Hôpitaux de Paris    All  ...  COVID-19   \n",
            "freq                                         78   5567  ...         6   \n",
            "\n",
            "         Start Date Primary Completion Date    Completion Date  \\\n",
            "count          5749                    5747               5747   \n",
            "unique          654                     877                978   \n",
            "top     May 1, 2020       December 31, 2020  December 31, 2021   \n",
            "freq            113                     122                179   \n",
            "\n",
            "          First Posted Results First Posted Last Update Posted  \\\n",
            "count             5783                   36               5783   \n",
            "unique             438                   33                269   \n",
            "top     April 24, 2020     November 4, 2020      April 8, 2021   \n",
            "freq               108                    2                109   \n",
            "\n",
            "                                 Locations  \\\n",
            "count                                 5198   \n",
            "unique                                4255   \n",
            "top     Uhmontpellier, Montpellier, France   \n",
            "freq                                    19   \n",
            "\n",
            "                                          Study Documents  \\\n",
            "count                                                 182   \n",
            "unique                                                182   \n",
            "top     \"Statistical Analysis Plan\", https://ClinicalT...   \n",
            "freq                                                    1   \n",
            "\n",
            "                                                URL  \n",
            "count                                          5783  \n",
            "unique                                         5783  \n",
            "top     https://ClinicalTrials.gov/show/NCT04680000  \n",
            "freq                                              1  \n",
            "\n",
            "[4 rows x 25 columns]\n"
          ]
        }
      ]
    },
    {
      "cell_type": "markdown",
      "source": [
        "# DATA CLEANING"
      ],
      "metadata": {
        "id": "l75qZ9WO5HF_"
      }
    },
    {
      "cell_type": "code",
      "source": [
        "print(df.head(6))"
      ],
      "metadata": {
        "colab": {
          "base_uri": "https://localhost:8080/"
        },
        "id": "qmXmeCFglgZi",
        "outputId": "55f90265-2148-442f-de96-87ee6b9aaddf"
      },
      "execution_count": null,
      "outputs": [
        {
          "output_type": "stream",
          "name": "stdout",
          "text": [
            "   Rank   NCT Number                                              Title  \\\n",
            "0     1  NCT04785898  Diagnostic Performance of the ID Now™ COVID-19...   \n",
            "1     2  NCT04595136  Study to Evaluate the Efficacy of COVID19-0001...   \n",
            "2     3  NCT04395482  Lung CT Scan Analysis of SARS-CoV2 Induced Lun...   \n",
            "3     4  NCT04416061  The Role of a Private Hospital in Hong Kong Am...   \n",
            "4     5  NCT04395924         Maternal-foetal Transmission of SARS-Cov-2   \n",
            "5     6  NCT04516954          Convalescent Plasma for COVID-19 Patients   \n",
            "\n",
            "        Acronym                   Status         Study Results  \\\n",
            "0   COVID-IDNow   Active, not recruiting  No Results Available   \n",
            "1      COVID-19       Not yet recruiting  No Results Available   \n",
            "2   TAC-COVID19               Recruiting  No Results Available   \n",
            "3      COVID-19   Active, not recruiting  No Results Available   \n",
            "4  TMF-COVID-19               Recruiting  No Results Available   \n",
            "5          CPCP  Enrolling by invitation  No Results Available   \n",
            "\n",
            "                                          Conditions  \\\n",
            "0                                            Covid19   \n",
            "1                               SARS-CoV-2 Infection   \n",
            "2                                            covid19   \n",
            "3                                              COVID   \n",
            "4  Maternal Fetal Infection Transmission|COVID-19...   \n",
            "5                                           COVID 19   \n",
            "\n",
            "                                       Interventions  \\\n",
            "0   Diagnostic Test: ID Now™ COVID-19 Screening Test   \n",
            "1    Drug: Drug COVID19-0001-USR|Drug: normal saline   \n",
            "2  Other: Lung CT scan analysis in COVID-19 patients   \n",
            "3          Diagnostic Test: COVID 19 Diagnostic Test   \n",
            "4  Diagnostic Test: Diagnosis of SARS-Cov2 by RT-...   \n",
            "5           Biological: Convalescent COVID 19 Plasma   \n",
            "\n",
            "                                    Outcome Measures  \\\n",
            "0  Evaluate the diagnostic performance of the ID ...   \n",
            "1  Change on viral load results from baseline aft...   \n",
            "2  A qualitative analysis of parenchymal lung dam...   \n",
            "3  Proportion of asymptomatic subjects|Proportion...   \n",
            "4  COVID-19 by positive PCR in cord blood and / o...   \n",
            "5  Evaluate the safety|Change in requirement for ...   \n",
            "\n",
            "                               Sponsor/Collaborators  ...         Other IDs  \\\n",
            "0              Groupe Hospitalier Paris Saint Joseph  ...       COVID-IDNow   \n",
            "1                         United Medical Specialties  ...  COVID19-0001-USR   \n",
            "2                       University of Milano Bicocca  ...       TAC-COVID19   \n",
            "3                    Hong Kong Sanatorium & Hospital  ...        RC-2020-08   \n",
            "4  Centre Hospitalier Régional d'Orléans|Centre d...  ...      CHRO-2020-10   \n",
            "5  Vinmec Research Institute of Stem Cell and Gen...  ...       ISC.20.11.1   \n",
            "\n",
            "         Start Date Primary Completion Date    Completion Date  \\\n",
            "0  November 9, 2020       December 22, 2020     April 30, 2021   \n",
            "1  November 2, 2020       December 15, 2020   January 29, 2021   \n",
            "2       May 7, 2020           June 15, 2021      June 15, 2021   \n",
            "3      May 25, 2020           July 31, 2020    August 31, 2020   \n",
            "4       May 5, 2020                May 2021           May 2021   \n",
            "5    August 1, 2020       November 30, 2020  December 30, 2020   \n",
            "\n",
            "       First Posted Results First Posted Last Update Posted  \\\n",
            "0     March 8, 2021                  NaN      March 8, 2021   \n",
            "1  October 20, 2020                  NaN   October 20, 2020   \n",
            "2      May 20, 2020                  NaN   November 9, 2020   \n",
            "3      June 4, 2020                  NaN       June 4, 2020   \n",
            "4      May 20, 2020                  NaN       June 4, 2020   \n",
            "5   August 18, 2020                  NaN    August 20, 2020   \n",
            "\n",
            "                                           Locations Study Documents  \\\n",
            "0  Groupe Hospitalier Paris Saint-Joseph, Paris, ...             NaN   \n",
            "1       Cimedical, Barranquilla, Atlantico, Colombia             NaN   \n",
            "2  Ospedale Papa Giovanni XXIII, Bergamo, Italy|P...             NaN   \n",
            "3  Hong Kong Sanatorium & Hospital, Hong Kong, Ho...             NaN   \n",
            "4                       CHR Orléans, Orléans, France             NaN   \n",
            "5  Vinmec Research Institute of Stem cell and Gen...             NaN   \n",
            "\n",
            "                                           URL  \n",
            "0  https://ClinicalTrials.gov/show/NCT04785898  \n",
            "1  https://ClinicalTrials.gov/show/NCT04595136  \n",
            "2  https://ClinicalTrials.gov/show/NCT04395482  \n",
            "3  https://ClinicalTrials.gov/show/NCT04416061  \n",
            "4  https://ClinicalTrials.gov/show/NCT04395924  \n",
            "5  https://ClinicalTrials.gov/show/NCT04516954  \n",
            "\n",
            "[6 rows x 27 columns]\n"
          ]
        }
      ]
    },
    {
      "cell_type": "code",
      "source": [
        "print(df.isnull().sum())"
      ],
      "metadata": {
        "colab": {
          "base_uri": "https://localhost:8080/"
        },
        "id": "F9pYeqjlkMCH",
        "outputId": "0de8897b-45a6-4349-ebc7-5ae34cdaa236"
      },
      "execution_count": null,
      "outputs": [
        {
          "output_type": "stream",
          "name": "stdout",
          "text": [
            "Rank                          0\n",
            "NCT Number                    0\n",
            "Title                         0\n",
            "Acronym                    3303\n",
            "Status                        0\n",
            "Study Results                 0\n",
            "Conditions                    0\n",
            "Interventions               886\n",
            "Outcome Measures             35\n",
            "Sponsor/Collaborators         0\n",
            "Gender                       10\n",
            "Age                           0\n",
            "Phases                     2461\n",
            "Enrollment                   34\n",
            "Funded Bys                    0\n",
            "Study Type                    0\n",
            "Study Designs                35\n",
            "Other IDs                     1\n",
            "Start Date                   34\n",
            "Primary Completion Date      36\n",
            "Completion Date              36\n",
            "First Posted                  0\n",
            "Results First Posted       5747\n",
            "Last Update Posted            0\n",
            "Locations                   585\n",
            "Study Documents            5601\n",
            "URL                           0\n",
            "dtype: int64\n"
          ]
        }
      ]
    },
    {
      "cell_type": "code",
      "source": [
        "df = df.dropna(subset=[\"Acronym\"])\n"
      ],
      "metadata": {
        "id": "gC-_ItXnkMIE"
      },
      "execution_count": null,
      "outputs": []
    },
    {
      "cell_type": "code",
      "source": [
        "df = df.dropna(subset=[\"Outcome Measures\"])\n"
      ],
      "metadata": {
        "id": "UIMTCfDdqpj3"
      },
      "execution_count": null,
      "outputs": []
    },
    {
      "cell_type": "code",
      "source": [
        "df = df.dropna(subset=['Gender'])\n"
      ],
      "metadata": {
        "id": "UvVxcdqroWPi"
      },
      "execution_count": null,
      "outputs": []
    },
    {
      "cell_type": "code",
      "source": [
        "df = df.dropna(subset=[\"Study Documents\"])"
      ],
      "metadata": {
        "id": "bFP74-vkkMK6"
      },
      "execution_count": null,
      "outputs": []
    },
    {
      "cell_type": "code",
      "source": [
        "df = df.dropna(subset=[\"Study Designs\"])"
      ],
      "metadata": {
        "id": "5RMtIaELozGE"
      },
      "execution_count": null,
      "outputs": []
    },
    {
      "cell_type": "code",
      "source": [
        "df = df.dropna(subset=[\"Start Date\"])"
      ],
      "metadata": {
        "id": "IrySBZ23o3m_"
      },
      "execution_count": null,
      "outputs": []
    },
    {
      "cell_type": "code",
      "source": [
        "df = df.dropna(subset=[\"Primary Completion Date\"])"
      ],
      "metadata": {
        "id": "vhQIP0rAo-8T"
      },
      "execution_count": null,
      "outputs": []
    },
    {
      "cell_type": "code",
      "source": [
        "df = df.dropna(subset=[\"Completion Date\"])"
      ],
      "metadata": {
        "id": "q-pr4GI-pA4E"
      },
      "execution_count": null,
      "outputs": []
    },
    {
      "cell_type": "code",
      "source": [
        "df['Interventions']=df['Interventions'].fillna('Unknown')"
      ],
      "metadata": {
        "id": "rHlWRYSqkMOT"
      },
      "execution_count": null,
      "outputs": []
    },
    {
      "cell_type": "code",
      "source": [
        "df['Locations']=df['Locations'].fillna('Unknown')"
      ],
      "metadata": {
        "id": "Gw0qd5tbp63Q"
      },
      "execution_count": null,
      "outputs": []
    },
    {
      "cell_type": "code",
      "source": [
        "df['Phases'] = df['Phases'].fillna('Unknown')\n"
      ],
      "metadata": {
        "id": "Y-lcvwzqp7GJ"
      },
      "execution_count": null,
      "outputs": []
    },
    {
      "cell_type": "code",
      "source": [
        "df['Results First Posted'] = df['Results First Posted'].fillna('Unknown')"
      ],
      "metadata": {
        "id": "pYxnXjvesnq8"
      },
      "execution_count": null,
      "outputs": []
    },
    {
      "cell_type": "code",
      "source": [
        "print(df.isnull().sum())"
      ],
      "metadata": {
        "colab": {
          "base_uri": "https://localhost:8080/"
        },
        "id": "uj9WZtBqshFl",
        "outputId": "777c4465-5a71-463b-aade-0d6bda01edf3"
      },
      "execution_count": null,
      "outputs": [
        {
          "output_type": "stream",
          "name": "stdout",
          "text": [
            "Rank                       0\n",
            "NCT Number                 0\n",
            "Title                      0\n",
            "Acronym                    0\n",
            "Status                     0\n",
            "Study Results              0\n",
            "Conditions                 0\n",
            "Interventions              0\n",
            "Outcome Measures           0\n",
            "Sponsor/Collaborators      0\n",
            "Gender                     0\n",
            "Age                        0\n",
            "Phases                     0\n",
            "Enrollment                 0\n",
            "Funded Bys                 0\n",
            "Study Type                 0\n",
            "Study Designs              0\n",
            "Other IDs                  0\n",
            "Start Date                 0\n",
            "Primary Completion Date    0\n",
            "Completion Date            0\n",
            "First Posted               0\n",
            "Results First Posted       0\n",
            "Last Update Posted         0\n",
            "Locations                  0\n",
            "Study Documents            0\n",
            "URL                        0\n",
            "dtype: int64\n"
          ]
        }
      ]
    },
    {
      "cell_type": "code",
      "source": [
        "categorical_features = df.select_dtypes(include =object).columns\n",
        "features =categorical_features[df[categorical_features].isnull().mean()>0]\n",
        "print(features)"
      ],
      "metadata": {
        "colab": {
          "base_uri": "https://localhost:8080/"
        },
        "id": "LqFC1HG7dcT1",
        "outputId": "e15e9053-cf94-4540-aa85-78d282abad7d"
      },
      "execution_count": null,
      "outputs": [
        {
          "output_type": "stream",
          "name": "stdout",
          "text": [
            "Index([], dtype='object')\n"
          ]
        }
      ]
    },
    {
      "cell_type": "code",
      "source": [
        "for feature in features:\n",
        "  df[feature] = df[feature].fillna(\"Missing {feature}\")\n",
        "df.isnull().mean() * 100"
      ],
      "metadata": {
        "colab": {
          "base_uri": "https://localhost:8080/",
          "height": 931
        },
        "id": "GD1fiRUyd6u2",
        "outputId": "6df6dddd-e591-4fa2-8d19-4f467026da6a"
      },
      "execution_count": null,
      "outputs": [
        {
          "output_type": "execute_result",
          "data": {
            "text/plain": [
              "Rank                       0.0\n",
              "NCT Number                 0.0\n",
              "Title                      0.0\n",
              "Acronym                    0.0\n",
              "Status                     0.0\n",
              "Study Results              0.0\n",
              "Conditions                 0.0\n",
              "Interventions              0.0\n",
              "Outcome Measures           0.0\n",
              "Sponsor/Collaborators      0.0\n",
              "Gender                     0.0\n",
              "Age                        0.0\n",
              "Phases                     0.0\n",
              "Enrollment                 0.0\n",
              "Funded Bys                 0.0\n",
              "Study Type                 0.0\n",
              "Study Designs              0.0\n",
              "Other IDs                  0.0\n",
              "Start Date                 0.0\n",
              "Primary Completion Date    0.0\n",
              "Completion Date            0.0\n",
              "First Posted               0.0\n",
              "Results First Posted       0.0\n",
              "Last Update Posted         0.0\n",
              "Locations                  0.0\n",
              "Study Documents            0.0\n",
              "URL                        0.0\n",
              "dtype: float64"
            ],
            "text/html": [
              "<div>\n",
              "<style scoped>\n",
              "    .dataframe tbody tr th:only-of-type {\n",
              "        vertical-align: middle;\n",
              "    }\n",
              "\n",
              "    .dataframe tbody tr th {\n",
              "        vertical-align: top;\n",
              "    }\n",
              "\n",
              "    .dataframe thead th {\n",
              "        text-align: right;\n",
              "    }\n",
              "</style>\n",
              "<table border=\"1\" class=\"dataframe\">\n",
              "  <thead>\n",
              "    <tr style=\"text-align: right;\">\n",
              "      <th></th>\n",
              "      <th>0</th>\n",
              "    </tr>\n",
              "  </thead>\n",
              "  <tbody>\n",
              "    <tr>\n",
              "      <th>Rank</th>\n",
              "      <td>0.0</td>\n",
              "    </tr>\n",
              "    <tr>\n",
              "      <th>NCT Number</th>\n",
              "      <td>0.0</td>\n",
              "    </tr>\n",
              "    <tr>\n",
              "      <th>Title</th>\n",
              "      <td>0.0</td>\n",
              "    </tr>\n",
              "    <tr>\n",
              "      <th>Acronym</th>\n",
              "      <td>0.0</td>\n",
              "    </tr>\n",
              "    <tr>\n",
              "      <th>Status</th>\n",
              "      <td>0.0</td>\n",
              "    </tr>\n",
              "    <tr>\n",
              "      <th>Study Results</th>\n",
              "      <td>0.0</td>\n",
              "    </tr>\n",
              "    <tr>\n",
              "      <th>Conditions</th>\n",
              "      <td>0.0</td>\n",
              "    </tr>\n",
              "    <tr>\n",
              "      <th>Interventions</th>\n",
              "      <td>0.0</td>\n",
              "    </tr>\n",
              "    <tr>\n",
              "      <th>Outcome Measures</th>\n",
              "      <td>0.0</td>\n",
              "    </tr>\n",
              "    <tr>\n",
              "      <th>Sponsor/Collaborators</th>\n",
              "      <td>0.0</td>\n",
              "    </tr>\n",
              "    <tr>\n",
              "      <th>Gender</th>\n",
              "      <td>0.0</td>\n",
              "    </tr>\n",
              "    <tr>\n",
              "      <th>Age</th>\n",
              "      <td>0.0</td>\n",
              "    </tr>\n",
              "    <tr>\n",
              "      <th>Phases</th>\n",
              "      <td>0.0</td>\n",
              "    </tr>\n",
              "    <tr>\n",
              "      <th>Enrollment</th>\n",
              "      <td>0.0</td>\n",
              "    </tr>\n",
              "    <tr>\n",
              "      <th>Funded Bys</th>\n",
              "      <td>0.0</td>\n",
              "    </tr>\n",
              "    <tr>\n",
              "      <th>Study Type</th>\n",
              "      <td>0.0</td>\n",
              "    </tr>\n",
              "    <tr>\n",
              "      <th>Study Designs</th>\n",
              "      <td>0.0</td>\n",
              "    </tr>\n",
              "    <tr>\n",
              "      <th>Other IDs</th>\n",
              "      <td>0.0</td>\n",
              "    </tr>\n",
              "    <tr>\n",
              "      <th>Start Date</th>\n",
              "      <td>0.0</td>\n",
              "    </tr>\n",
              "    <tr>\n",
              "      <th>Primary Completion Date</th>\n",
              "      <td>0.0</td>\n",
              "    </tr>\n",
              "    <tr>\n",
              "      <th>Completion Date</th>\n",
              "      <td>0.0</td>\n",
              "    </tr>\n",
              "    <tr>\n",
              "      <th>First Posted</th>\n",
              "      <td>0.0</td>\n",
              "    </tr>\n",
              "    <tr>\n",
              "      <th>Results First Posted</th>\n",
              "      <td>0.0</td>\n",
              "    </tr>\n",
              "    <tr>\n",
              "      <th>Last Update Posted</th>\n",
              "      <td>0.0</td>\n",
              "    </tr>\n",
              "    <tr>\n",
              "      <th>Locations</th>\n",
              "      <td>0.0</td>\n",
              "    </tr>\n",
              "    <tr>\n",
              "      <th>Study Documents</th>\n",
              "      <td>0.0</td>\n",
              "    </tr>\n",
              "    <tr>\n",
              "      <th>URL</th>\n",
              "      <td>0.0</td>\n",
              "    </tr>\n",
              "  </tbody>\n",
              "</table>\n",
              "</div><br><label><b>dtype:</b> float64</label>"
            ]
          },
          "metadata": {},
          "execution_count": 69
        }
      ]
    },
    {
      "cell_type": "code",
      "source": [
        "# Check the skewness\n",
        "df.Enrollment.skew()"
      ],
      "metadata": {
        "colab": {
          "base_uri": "https://localhost:8080/"
        },
        "id": "1aM_Vcdmetww",
        "outputId": "112a6dd0-d05e-43dd-8f92-7c69c6b3709a"
      },
      "execution_count": null,
      "outputs": [
        {
          "output_type": "execute_result",
          "data": {
            "text/plain": [
              "np.float64(8.202462483511036)"
            ]
          },
          "metadata": {},
          "execution_count": 70
        }
      ]
    },
    {
      "cell_type": "code",
      "source": [
        "# Plotting the distribution of the enrollment\n",
        "df.Enrollment.plot(kind = 'line',color='red')"
      ],
      "metadata": {
        "colab": {
          "base_uri": "https://localhost:8080/",
          "height": 447
        },
        "id": "IODDmDrje4FZ",
        "outputId": "baa3a911-3003-4ae5-c97f-62513f86d715"
      },
      "execution_count": null,
      "outputs": [
        {
          "output_type": "execute_result",
          "data": {
            "text/plain": [
              "<Axes: >"
            ]
          },
          "metadata": {},
          "execution_count": 71
        },
        {
          "output_type": "display_data",
          "data": {
            "text/plain": [
              "<Figure size 640x480 with 1 Axes>"
            ],
            "image/png": "[encoded data removed]"
          },
          "metadata": {}
        }
      ]
    },
    {
      "cell_type": "code",
      "source": [
        "# Using Median to impute Missing Values\n",
        "df.Enrollment = df.Enrollment.fillna(median_Value)"
      ],
      "metadata": {
        "id": "JieFzxo3e83f"
      },
      "execution_count": null,
      "outputs": []
    },
    {
      "cell_type": "code",
      "source": [
        "# Detecting (Percentage) Missing Data\n",
        "df.isnull().mean() * 100"
      ],
      "metadata": {
        "colab": {
          "base_uri": "https://localhost:8080/",
          "height": 931
        },
        "id": "Yhv407fce8rV",
        "outputId": "bd006702-6491-4f45-831f-849afaf60041"
      },
      "execution_count": null,
      "outputs": [
        {
          "output_type": "execute_result",
          "data": {
            "text/plain": [
              "Rank                       0.0\n",
              "NCT Number                 0.0\n",
              "Title                      0.0\n",
              "Acronym                    0.0\n",
              "Status                     0.0\n",
              "Study Results              0.0\n",
              "Conditions                 0.0\n",
              "Interventions              0.0\n",
              "Outcome Measures           0.0\n",
              "Sponsor/Collaborators      0.0\n",
              "Gender                     0.0\n",
              "Age                        0.0\n",
              "Phases                     0.0\n",
              "Enrollment                 0.0\n",
              "Funded Bys                 0.0\n",
              "Study Type                 0.0\n",
              "Study Designs              0.0\n",
              "Other IDs                  0.0\n",
              "Start Date                 0.0\n",
              "Primary Completion Date    0.0\n",
              "Completion Date            0.0\n",
              "First Posted               0.0\n",
              "Results First Posted       0.0\n",
              "Last Update Posted         0.0\n",
              "Locations                  0.0\n",
              "Study Documents            0.0\n",
              "URL                        0.0\n",
              "dtype: float64"
            ],
            "text/html": [
              "<div>\n",
              "<style scoped>\n",
              "    .dataframe tbody tr th:only-of-type {\n",
              "        vertical-align: middle;\n",
              "    }\n",
              "\n",
              "    .dataframe tbody tr th {\n",
              "        vertical-align: top;\n",
              "    }\n",
              "\n",
              "    .dataframe thead th {\n",
              "        text-align: right;\n",
              "    }\n",
              "</style>\n",
              "<table border=\"1\" class=\"dataframe\">\n",
              "  <thead>\n",
              "    <tr style=\"text-align: right;\">\n",
              "      <th></th>\n",
              "      <th>0</th>\n",
              "    </tr>\n",
              "  </thead>\n",
              "  <tbody>\n",
              "    <tr>\n",
              "      <th>Rank</th>\n",
              "      <td>0.0</td>\n",
              "    </tr>\n",
              "    <tr>\n",
              "      <th>NCT Number</th>\n",
              "      <td>0.0</td>\n",
              "    </tr>\n",
              "    <tr>\n",
              "      <th>Title</th>\n",
              "      <td>0.0</td>\n",
              "    </tr>\n",
              "    <tr>\n",
              "      <th>Acronym</th>\n",
              "      <td>0.0</td>\n",
              "    </tr>\n",
              "    <tr>\n",
              "      <th>Status</th>\n",
              "      <td>0.0</td>\n",
              "    </tr>\n",
              "    <tr>\n",
              "      <th>Study Results</th>\n",
              "      <td>0.0</td>\n",
              "    </tr>\n",
              "    <tr>\n",
              "      <th>Conditions</th>\n",
              "      <td>0.0</td>\n",
              "    </tr>\n",
              "    <tr>\n",
              "      <th>Interventions</th>\n",
              "      <td>0.0</td>\n",
              "    </tr>\n",
              "    <tr>\n",
              "      <th>Outcome Measures</th>\n",
              "      <td>0.0</td>\n",
              "    </tr>\n",
              "    <tr>\n",
              "      <th>Sponsor/Collaborators</th>\n",
              "      <td>0.0</td>\n",
              "    </tr>\n",
              "    <tr>\n",
              "      <th>Gender</th>\n",
              "      <td>0.0</td>\n",
              "    </tr>\n",
              "    <tr>\n",
              "      <th>Age</th>\n",
              "      <td>0.0</td>\n",
              "    </tr>\n",
              "    <tr>\n",
              "      <th>Phases</th>\n",
              "      <td>0.0</td>\n",
              "    </tr>\n",
              "    <tr>\n",
              "      <th>Enrollment</th>\n",
              "      <td>0.0</td>\n",
              "    </tr>\n",
              "    <tr>\n",
              "      <th>Funded Bys</th>\n",
              "      <td>0.0</td>\n",
              "    </tr>\n",
              "    <tr>\n",
              "      <th>Study Type</th>\n",
              "      <td>0.0</td>\n",
              "    </tr>\n",
              "    <tr>\n",
              "      <th>Study Designs</th>\n",
              "      <td>0.0</td>\n",
              "    </tr>\n",
              "    <tr>\n",
              "      <th>Other IDs</th>\n",
              "      <td>0.0</td>\n",
              "    </tr>\n",
              "    <tr>\n",
              "      <th>Start Date</th>\n",
              "      <td>0.0</td>\n",
              "    </tr>\n",
              "    <tr>\n",
              "      <th>Primary Completion Date</th>\n",
              "      <td>0.0</td>\n",
              "    </tr>\n",
              "    <tr>\n",
              "      <th>Completion Date</th>\n",
              "      <td>0.0</td>\n",
              "    </tr>\n",
              "    <tr>\n",
              "      <th>First Posted</th>\n",
              "      <td>0.0</td>\n",
              "    </tr>\n",
              "    <tr>\n",
              "      <th>Results First Posted</th>\n",
              "      <td>0.0</td>\n",
              "    </tr>\n",
              "    <tr>\n",
              "      <th>Last Update Posted</th>\n",
              "      <td>0.0</td>\n",
              "    </tr>\n",
              "    <tr>\n",
              "      <th>Locations</th>\n",
              "      <td>0.0</td>\n",
              "    </tr>\n",
              "    <tr>\n",
              "      <th>Study Documents</th>\n",
              "      <td>0.0</td>\n",
              "    </tr>\n",
              "    <tr>\n",
              "      <th>URL</th>\n",
              "      <td>0.0</td>\n",
              "    </tr>\n",
              "  </tbody>\n",
              "</table>\n",
              "</div><br><label><b>dtype:</b> float64</label>"
            ]
          },
          "metadata": {},
          "execution_count": 74
        }
      ]
    },
    {
      "cell_type": "markdown",
      "source": [
        "### ANSWER-1"
      ],
      "metadata": {
        "id": "7pI4W1jeBxYv"
      }
    },
    {
      "cell_type": "code",
      "source": [
        "import matplotlib.pyplot as plt\n",
        "\n",
        "# Use your precomputed values\n",
        "min_Value = df.Enrollment.min()\n",
        "max_Value = df.Enrollment.max()\n",
        "mean_Value = df.Enrollment.mean()\n",
        "median_Value = df.Enrollment.median()\n",
        "std_Value = df.Enrollment.std()\n",
        "\n",
        "# Create a dictionary\n",
        "stats = {\n",
        "    'Min': min_Value,\n",
        "    'Max': max_Value,\n",
        "    'Mean': mean_Value,\n",
        "    'Median': median_Value,\n",
        "    'Std Dev': std_Value\n",
        "}\n",
        "\n",
        "# Normalize values to percentages (for better pie visuals)\n",
        "total = sum(stats.values())\n",
        "percentages = [val / total for val in stats.values()]\n",
        "\n",
        "# Plot pie chart\n",
        "plt.figure(figsize=(6, 6))\n",
        "plt.pie(percentages,\n",
        "        labels=stats.keys(),\n",
        "        autopct='%1.1f%%',\n",
        "        startangle=140,\n",
        "        colors=plt.cm.Reds(range(50, 250, 40)))\n",
        "\n",
        "plt.title('Enrollment Statistics Distribution')\n",
        "plt.axis('equal')  # Ensures a perfect circle\n",
        "plt.show()\n"
      ],
      "metadata": {
        "colab": {
          "base_uri": "https://localhost:8080/",
          "height": 521
        },
        "id": "luXBD02lBUnt",
        "outputId": "1d6a1e43-661b-4669-de06-e03b10748ba8"
      },
      "execution_count": null,
      "outputs": [
        {
          "output_type": "display_data",
          "data": {
            "text/plain": [
              "<Figure size 600x600 with 1 Axes>"
            ],
            "image/png": "[encoded data removed]"
          },
          "metadata": {}
        }
      ]
    },
    {
      "cell_type": "markdown",
      "source": [
        "# DATA TRANSFORMATION"
      ],
      "metadata": {
        "id": "3B7YRXg15aUo"
      }
    },
    {
      "cell_type": "code",
      "source": [
        "# Converting the date values from string type to date type"
      ],
      "metadata": {
        "id": "HKHTb-5pvr__"
      },
      "execution_count": null,
      "outputs": []
    },
    {
      "cell_type": "code",
      "source": [
        "for col in ['Start Date', 'Primary Completion Date', 'Completion Date', 'First Posted', 'Results First Posted', 'Last Update Posted']:\n",
        "    df[col] = df[col].astype(str).str.strip()                          # Remove spaces\n",
        "    df[col] = pd.to_datetime(df[col], errors='coerce')                # Convert to datetime; invalid ones become NaT\n",
        "\n",
        "print(df)\n"
      ],
      "metadata": {
        "colab": {
          "base_uri": "https://localhost:8080/"
        },
        "id": "aU_4SGPNu8in",
        "outputId": "a24264e0-c310-4419-fece-6c8f5399baa1"
      },
      "execution_count": null,
      "outputs": [
        {
          "output_type": "stream",
          "name": "stdout",
          "text": [
            "      Rank   NCT Number                                              Title  \\\n",
            "113    114  NCT04780126  Sarco-COVID Study: Measuring the Loss of Skele...   \n",
            "250    251  NCT04341441  Will Hydroxychloroquine Impede or Prevent COVI...   \n",
            "283    284  NCT04382781    Immunosupressive Treatment in COVID-19 Patients   \n",
            "461    462  NCT04321811  Behavior, Environment And Treatments for Covid-19   \n",
            "614    615  NCT04659941  Use of BCG Vaccine as a Preventive Measure for...   \n",
            "...    ...          ...                                                ...   \n",
            "5668  5669  NCT04400682  Bioequivalence Study of Favipiravir 200 mg Fil...   \n",
            "5717  5718  NCT04386876  Bioequivalence Study of Lopinavir/Ritonavir 20...   \n",
            "5737  5738  NCT03483935  Microwave Therapy for Treatment of Precancerou...   \n",
            "5765  5766  NCT04429061  Reaching 90 90 90 in Adolescents in Zambia: Us...   \n",
            "5770  5771  NCT03392883  Scaling Up Science-based Mental Health Interve...   \n",
            "\n",
            "            Acronym                  Status         Study Results  \\\n",
            "113     SARCO-COVID              Recruiting  No Results Available   \n",
            "250   WHIP COVID-19              Terminated  No Results Available   \n",
            "283       SAM-COVID              Recruiting  No Results Available   \n",
            "461          BEAT19  Active, not recruiting  No Results Available   \n",
            "614          ProBCG              Recruiting  No Results Available   \n",
            "...             ...                     ...                   ...   \n",
            "5668    Favipiravir               Completed           Has Results   \n",
            "5717        Orvical               Completed  No Results Available   \n",
            "5737           MTAK               Completed           Has Results   \n",
            "5765         SKILLZ              Recruiting  No Results Available   \n",
            "5770          DIADA  Active, not recruiting  No Results Available   \n",
            "\n",
            "                                             Conditions  \\\n",
            "113                                  Sarcopenia|Covid19   \n",
            "250   COVID-19|Coronavirus|Coronavirus Infections|SA...   \n",
            "283                                  COVID-19 Infection   \n",
            "461                                         Coronavirus   \n",
            "614                                    COVID 19 Vaccine   \n",
            "...                                                 ...   \n",
            "5668                                     Bioequivalence   \n",
            "5717                                     Bioequivalence   \n",
            "5737         Actinic Keratoses|Precancerous Skin Lesion   \n",
            "5765  HIV Infections|Pregnancy Related|STI|Mental He...   \n",
            "5770                 Depression|Problematic Alcohol Use   \n",
            "\n",
            "                                          Interventions  \\\n",
            "113                         Other: Sarcopenia diagnosis   \n",
            "250   Drug: Hydroxychloroquine - Daily Dosing|Drug: ...   \n",
            "283   Drug: NO-Immunosuppressive|Drug: Immunosuppres...   \n",
            "461   Other: Observation of patients with known, sus...   \n",
            "614                             Biological: BCG vaccine   \n",
            "...                                                 ...   \n",
            "5668  Drug: FAVIRA 200 MG Film Tablet|Drug: AVIGAN 2...   \n",
            "5717  Drug: Lopinavir/Ritonavir 200 mg/50 mg Film Ta...   \n",
            "5737                         Other: Microwave treatment   \n",
            "5765  Behavioral: SKILLZ-Girl Enhanced football curr...   \n",
            "5770                                  Behavioral: Laddr   \n",
            "\n",
            "                                       Outcome Measures  \\\n",
            "113   Loss of muscle mass|Prevalence of sarcopenia|N...   \n",
            "250   To determine if the use of hydroxychloroquine ...   \n",
            "283   Invasive ventilation or death|Ventilation|Deat...   \n",
            "461   Define Natural Symptom Course|Time to Hospital...   \n",
            "614   Compare the cumulative incidence of SARS-CoV-2...   \n",
            "...                                                 ...   \n",
            "5668  AUC0-tlast|Favipiravir Cmax|AUC0-inf of Favipi...   \n",
            "5717                              Primary PK End Points   \n",
            "5737  Resolution of AK Lesions Following Microwave T...   \n",
            "5765  Number of participants undergoing HIV testing ...   \n",
            "5770  The Integrated Measure of Implementation Conte...   \n",
            "\n",
            "                                  Sponsor/Collaborators  ...  \\\n",
            "113   Fundacion para la Investigacion Biomedica del ...  ...   \n",
            "250                            Henry Ford Health System  ...   \n",
            "283   Spanish Network for Research in Infectious Dis...  ...   \n",
            "461   xCures|Genetic Alliance|LunaDNA|Cancer Commons...  ...   \n",
            "614   Universidade Federal do Rio de Janeiro|Ministr...  ...   \n",
            "...                                                 ...  ...   \n",
            "5668  Novelfarma Ilaç San. ve Tic. Ltd. Sti.|Novagen...  ...   \n",
            "5717  World Medicine ILAC SAN. ve TIC. A.S.|Novageni...  ...   \n",
            "5737             University of Dundee|Emblation Limited  ...   \n",
            "5765  University of Alabama at Birmingham|University...  ...   \n",
            "5770  Dartmouth-Hitchcock Medical Center|Pontificia ...  ...   \n",
            "\n",
            "                             Other IDs Start Date Primary Completion Date  \\\n",
            "113                     21/090-E_COVID 2021-02-26              2021-04-30   \n",
            "250                            1410401 2020-04-07              2020-12-15   \n",
            "283                    FIS-INM-2020-03        NaT                     NaT   \n",
            "461                    XC-PCOR-COVID19 2020-03-21              2021-02-09   \n",
            "614               31942220.8.1001.5257 2020-10-01              2021-10-01   \n",
            "...                                ...        ...                     ...   \n",
            "5668            NOV2020/1923|FARGE 367 2020-05-28              2020-06-05   \n",
            "5717            NOV2020/01911|FARGE365 2020-04-30              2020-05-22   \n",
            "5737                          2016DS12 2018-03-07              2019-02-28   \n",
            "5765                     IRB-300002251 2020-03-01              2023-03-30   \n",
            "5770  1U19MH109988 D18019|1U19MH109988 2018-02-13                     NaT   \n",
            "\n",
            "      Completion Date First Posted Results First Posted Last Update Posted  \\\n",
            "113        2021-05-31   2021-03-03                  NaT         2021-03-03   \n",
            "250        2020-12-15   2020-04-10                  NaT         2020-12-21   \n",
            "283               NaT   2020-05-11                  NaT         2020-05-12   \n",
            "461        2022-03-20   2020-03-25                  NaT         2021-02-10   \n",
            "614        2022-10-01   2020-12-09                  NaT         2020-12-09   \n",
            "...               ...          ...                  ...                ...   \n",
            "5668       2020-06-18   2020-05-22           2020-08-11         2020-08-11   \n",
            "5717       2020-06-11   2020-05-13                  NaT         2020-12-31   \n",
            "5737       2019-02-28   2018-03-30           2021-02-23         2021-02-23   \n",
            "5765       2023-06-30   2020-06-11                  NaT         2020-06-11   \n",
            "5770              NaT   2018-01-08                  NaT         2020-12-19   \n",
            "\n",
            "                                              Locations  \\\n",
            "113   Hospital de Emergencias Isabel Zendal, Madrid,...   \n",
            "250   Henry Ford Hospital, Detroit, Michigan, United...   \n",
            "283            Hospital Virgen Macarena, Sevilla, Spain   \n",
            "461   BEAT19.org, San Francisco, California, United ...   \n",
            "614   Universidade Federal do Rio de Janeiro, Rio De...   \n",
            "...                                                 ...   \n",
            "5668  Novagenix Drug R&D Center, Akyurt, Ankara, Tur...   \n",
            "5717  Novagenix Drug R&D Center, Akyurt, Ankara, Tur...   \n",
            "5737                NHS Tayside, Dundee, United Kingdom   \n",
            "5765  Centre of Infectious Disease Research Zambia, ...   \n",
            "5770  Salud de Tundama, Duitama, Boyaca, Colombia|Em...   \n",
            "\n",
            "                                        Study Documents  \\\n",
            "113   \"Study Protocol, Statistical Analysis Plan, an...   \n",
            "250   \"Study Protocol\", https://ClinicalTrials.gov/P...   \n",
            "283   \"Study Protocol and Statistical Analysis Plan\"...   \n",
            "461   \"Study Protocol and Informed Consent Form\", ht...   \n",
            "614   \"Study Protocol and Statistical Analysis Plan\"...   \n",
            "...                                                 ...   \n",
            "5668  \"Study Protocol and Statistical Analysis Plan\"...   \n",
            "5717  \"Informed Consent Form\", https://ClinicalTrial...   \n",
            "5737  \"Study Protocol\", https://ClinicalTrials.gov/P...   \n",
            "5765  \"Study Protocol and Statistical Analysis Plan\"...   \n",
            "5770  \"Informed Consent Form: Patient Informed Conse...   \n",
            "\n",
            "                                              URL  \n",
            "113   https://ClinicalTrials.gov/show/NCT04780126  \n",
            "250   https://ClinicalTrials.gov/show/NCT04341441  \n",
            "283   https://ClinicalTrials.gov/show/NCT04382781  \n",
            "461   https://ClinicalTrials.gov/show/NCT04321811  \n",
            "614   https://ClinicalTrials.gov/show/NCT04659941  \n",
            "...                                           ...  \n",
            "5668  https://ClinicalTrials.gov/show/NCT04400682  \n",
            "5717  https://ClinicalTrials.gov/show/NCT04386876  \n",
            "5737  https://ClinicalTrials.gov/show/NCT03483935  \n",
            "5765  https://ClinicalTrials.gov/show/NCT04429061  \n",
            "5770  https://ClinicalTrials.gov/show/NCT03392883  \n",
            "\n",
            "[70 rows x 27 columns]\n"
          ]
        },
        {
          "output_type": "stream",
          "name": "stderr",
          "text": [
            "<ipython-input-77-4f5402790e3a>:3: UserWarning: Could not infer format, so each element will be parsed individually, falling back to `dateutil`. To ensure parsing is consistent and as-expected, please specify a format.\n",
            "  df[col] = pd.to_datetime(df[col], errors='coerce')                # Convert to datetime; invalid ones become NaT\n"
          ]
        }
      ]
    },
    {
      "cell_type": "code",
      "source": [
        "df['Conditions'] = df['Conditions'].str.strip().str.title()"
      ],
      "metadata": {
        "id": "Mf4VrjyZxPCN"
      },
      "execution_count": null,
      "outputs": []
    },
    {
      "cell_type": "code",
      "source": [
        "print(df)"
      ],
      "metadata": {
        "colab": {
          "base_uri": "https://localhost:8080/"
        },
        "id": "HgD4gS1PrSh1",
        "outputId": "54c77893-8ff2-4ee2-dd87-67efa849f829"
      },
      "execution_count": null,
      "outputs": [
        {
          "output_type": "stream",
          "name": "stdout",
          "text": [
            "      Rank   NCT Number                                              Title  \\\n",
            "113    114  NCT04780126  Sarco-COVID Study: Measuring the Loss of Skele...   \n",
            "250    251  NCT04341441  Will Hydroxychloroquine Impede or Prevent COVI...   \n",
            "283    284  NCT04382781    Immunosupressive Treatment in COVID-19 Patients   \n",
            "461    462  NCT04321811  Behavior, Environment And Treatments for Covid-19   \n",
            "614    615  NCT04659941  Use of BCG Vaccine as a Preventive Measure for...   \n",
            "...    ...          ...                                                ...   \n",
            "5668  5669  NCT04400682  Bioequivalence Study of Favipiravir 200 mg Fil...   \n",
            "5717  5718  NCT04386876  Bioequivalence Study of Lopinavir/Ritonavir 20...   \n",
            "5737  5738  NCT03483935  Microwave Therapy for Treatment of Precancerou...   \n",
            "5765  5766  NCT04429061  Reaching 90 90 90 in Adolescents in Zambia: Us...   \n",
            "5770  5771  NCT03392883  Scaling Up Science-based Mental Health Interve...   \n",
            "\n",
            "            Acronym                  Status         Study Results  \\\n",
            "113     SARCO-COVID              Recruiting  No Results Available   \n",
            "250   WHIP COVID-19              Terminated  No Results Available   \n",
            "283       SAM-COVID              Recruiting  No Results Available   \n",
            "461          BEAT19  Active, not recruiting  No Results Available   \n",
            "614          ProBCG              Recruiting  No Results Available   \n",
            "...             ...                     ...                   ...   \n",
            "5668    Favipiravir               Completed           Has Results   \n",
            "5717        Orvical               Completed  No Results Available   \n",
            "5737           MTAK               Completed           Has Results   \n",
            "5765         SKILLZ              Recruiting  No Results Available   \n",
            "5770          DIADA  Active, not recruiting  No Results Available   \n",
            "\n",
            "                                             Conditions  \\\n",
            "113                                  Sarcopenia|Covid19   \n",
            "250   Covid-19|Coronavirus|Coronavirus Infections|Sa...   \n",
            "283                                  Covid-19 Infection   \n",
            "461                                         Coronavirus   \n",
            "614                                    Covid 19 Vaccine   \n",
            "...                                                 ...   \n",
            "5668                                     Bioequivalence   \n",
            "5717                                     Bioequivalence   \n",
            "5737         Actinic Keratoses|Precancerous Skin Lesion   \n",
            "5765  Hiv Infections|Pregnancy Related|Sti|Mental He...   \n",
            "5770                 Depression|Problematic Alcohol Use   \n",
            "\n",
            "                                          Interventions  \\\n",
            "113                         Other: Sarcopenia diagnosis   \n",
            "250   Drug: Hydroxychloroquine - Daily Dosing|Drug: ...   \n",
            "283   Drug: NO-Immunosuppressive|Drug: Immunosuppres...   \n",
            "461   Other: Observation of patients with known, sus...   \n",
            "614                             Biological: BCG vaccine   \n",
            "...                                                 ...   \n",
            "5668  Drug: FAVIRA 200 MG Film Tablet|Drug: AVIGAN 2...   \n",
            "5717  Drug: Lopinavir/Ritonavir 200 mg/50 mg Film Ta...   \n",
            "5737                         Other: Microwave treatment   \n",
            "5765  Behavioral: SKILLZ-Girl Enhanced football curr...   \n",
            "5770                                  Behavioral: Laddr   \n",
            "\n",
            "                                       Outcome Measures  \\\n",
            "113   Loss of muscle mass|Prevalence of sarcopenia|N...   \n",
            "250   To determine if the use of hydroxychloroquine ...   \n",
            "283   Invasive ventilation or death|Ventilation|Deat...   \n",
            "461   Define Natural Symptom Course|Time to Hospital...   \n",
            "614   Compare the cumulative incidence of SARS-CoV-2...   \n",
            "...                                                 ...   \n",
            "5668  AUC0-tlast|Favipiravir Cmax|AUC0-inf of Favipi...   \n",
            "5717                              Primary PK End Points   \n",
            "5737  Resolution of AK Lesions Following Microwave T...   \n",
            "5765  Number of participants undergoing HIV testing ...   \n",
            "5770  The Integrated Measure of Implementation Conte...   \n",
            "\n",
            "                                  Sponsor/Collaborators  ...  \\\n",
            "113   Fundacion para la Investigacion Biomedica del ...  ...   \n",
            "250                            Henry Ford Health System  ...   \n",
            "283   Spanish Network for Research in Infectious Dis...  ...   \n",
            "461   xCures|Genetic Alliance|LunaDNA|Cancer Commons...  ...   \n",
            "614   Universidade Federal do Rio de Janeiro|Ministr...  ...   \n",
            "...                                                 ...  ...   \n",
            "5668  Novelfarma Ilaç San. ve Tic. Ltd. Sti.|Novagen...  ...   \n",
            "5717  World Medicine ILAC SAN. ve TIC. A.S.|Novageni...  ...   \n",
            "5737             University of Dundee|Emblation Limited  ...   \n",
            "5765  University of Alabama at Birmingham|University...  ...   \n",
            "5770  Dartmouth-Hitchcock Medical Center|Pontificia ...  ...   \n",
            "\n",
            "                             Other IDs Start Date Primary Completion Date  \\\n",
            "113                     21/090-E_COVID 2021-02-26              2021-04-30   \n",
            "250                            1410401 2020-04-07              2020-12-15   \n",
            "283                    FIS-INM-2020-03        NaT                     NaT   \n",
            "461                    XC-PCOR-COVID19 2020-03-21              2021-02-09   \n",
            "614               31942220.8.1001.5257 2020-10-01              2021-10-01   \n",
            "...                                ...        ...                     ...   \n",
            "5668            NOV2020/1923|FARGE 367 2020-05-28              2020-06-05   \n",
            "5717            NOV2020/01911|FARGE365 2020-04-30              2020-05-22   \n",
            "5737                          2016DS12 2018-03-07              2019-02-28   \n",
            "5765                     IRB-300002251 2020-03-01              2023-03-30   \n",
            "5770  1U19MH109988 D18019|1U19MH109988 2018-02-13                     NaT   \n",
            "\n",
            "      Completion Date First Posted Results First Posted Last Update Posted  \\\n",
            "113        2021-05-31   2021-03-03                  NaT         2021-03-03   \n",
            "250        2020-12-15   2020-04-10                  NaT         2020-12-21   \n",
            "283               NaT   2020-05-11                  NaT         2020-05-12   \n",
            "461        2022-03-20   2020-03-25                  NaT         2021-02-10   \n",
            "614        2022-10-01   2020-12-09                  NaT         2020-12-09   \n",
            "...               ...          ...                  ...                ...   \n",
            "5668       2020-06-18   2020-05-22           2020-08-11         2020-08-11   \n",
            "5717       2020-06-11   2020-05-13                  NaT         2020-12-31   \n",
            "5737       2019-02-28   2018-03-30           2021-02-23         2021-02-23   \n",
            "5765       2023-06-30   2020-06-11                  NaT         2020-06-11   \n",
            "5770              NaT   2018-01-08                  NaT         2020-12-19   \n",
            "\n",
            "                                              Locations  \\\n",
            "113   Hospital de Emergencias Isabel Zendal, Madrid,...   \n",
            "250   Henry Ford Hospital, Detroit, Michigan, United...   \n",
            "283            Hospital Virgen Macarena, Sevilla, Spain   \n",
            "461   BEAT19.org, San Francisco, California, United ...   \n",
            "614   Universidade Federal do Rio de Janeiro, Rio De...   \n",
            "...                                                 ...   \n",
            "5668  Novagenix Drug R&D Center, Akyurt, Ankara, Tur...   \n",
            "5717  Novagenix Drug R&D Center, Akyurt, Ankara, Tur...   \n",
            "5737                NHS Tayside, Dundee, United Kingdom   \n",
            "5765  Centre of Infectious Disease Research Zambia, ...   \n",
            "5770  Salud de Tundama, Duitama, Boyaca, Colombia|Em...   \n",
            "\n",
            "                                        Study Documents  \\\n",
            "113   \"Study Protocol, Statistical Analysis Plan, an...   \n",
            "250   \"Study Protocol\", https://ClinicalTrials.gov/P...   \n",
            "283   \"Study Protocol and Statistical Analysis Plan\"...   \n",
            "461   \"Study Protocol and Informed Consent Form\", ht...   \n",
            "614   \"Study Protocol and Statistical Analysis Plan\"...   \n",
            "...                                                 ...   \n",
            "5668  \"Study Protocol and Statistical Analysis Plan\"...   \n",
            "5717  \"Informed Consent Form\", https://ClinicalTrial...   \n",
            "5737  \"Study Protocol\", https://ClinicalTrials.gov/P...   \n",
            "5765  \"Study Protocol and Statistical Analysis Plan\"...   \n",
            "5770  \"Informed Consent Form: Patient Informed Conse...   \n",
            "\n",
            "                                              URL  \n",
            "113   https://ClinicalTrials.gov/show/NCT04780126  \n",
            "250   https://ClinicalTrials.gov/show/NCT04341441  \n",
            "283   https://ClinicalTrials.gov/show/NCT04382781  \n",
            "461   https://ClinicalTrials.gov/show/NCT04321811  \n",
            "614   https://ClinicalTrials.gov/show/NCT04659941  \n",
            "...                                           ...  \n",
            "5668  https://ClinicalTrials.gov/show/NCT04400682  \n",
            "5717  https://ClinicalTrials.gov/show/NCT04386876  \n",
            "5737  https://ClinicalTrials.gov/show/NCT03483935  \n",
            "5765  https://ClinicalTrials.gov/show/NCT04429061  \n",
            "5770  https://ClinicalTrials.gov/show/NCT03392883  \n",
            "\n",
            "[70 rows x 27 columns]\n"
          ]
        }
      ]
    },
    {
      "cell_type": "markdown",
      "source": [
        "# DATA VISUALIZATION"
      ],
      "metadata": {
        "id": "i6JZO2jm5rRh"
      }
    },
    {
      "cell_type": "code",
      "source": [
        "# UNIVARIATE ANALYSIS-"
      ],
      "metadata": {
        "id": "EYA__ZFSdYh4"
      },
      "execution_count": null,
      "outputs": []
    },
    {
      "cell_type": "code",
      "source": [
        "# Status Distribution: Analyze the status of clinical trials (e.g., Completed, Ongoing)."
      ],
      "metadata": {
        "id": "SLr4oYs-tMHi"
      },
      "execution_count": null,
      "outputs": []
    },
    {
      "cell_type": "markdown",
      "source": [
        "### ANSWER- 2"
      ],
      "metadata": {
        "id": "5GIiE5wFhmWk"
      }
    },
    {
      "cell_type": "code",
      "source": [
        "print(df['Status'].value_counts())"
      ],
      "metadata": {
        "id": "xTmM7c5otNWc",
        "colab": {
          "base_uri": "https://localhost:8080/"
        },
        "outputId": "a7ad9c33-4d41-4c66-c804-e405cba42642"
      },
      "execution_count": null,
      "outputs": [
        {
          "output_type": "stream",
          "name": "stdout",
          "text": [
            "Status\n",
            "Completed                  28\n",
            "Recruiting                 23\n",
            "Active, not recruiting      7\n",
            "Not yet recruiting          6\n",
            "Terminated                  3\n",
            "Enrolling by invitation     2\n",
            "Suspended                   1\n",
            "Name: count, dtype: int64\n"
          ]
        }
      ]
    },
    {
      "cell_type": "code",
      "source": [
        "df['Status'].value_counts().plot(kind='bar', title='Status of Clinical Trials',color='red')\n"
      ],
      "metadata": {
        "id": "vtAlomK1tNfK",
        "colab": {
          "base_uri": "https://localhost:8080/",
          "height": 627
        },
        "outputId": "d4245292-df5c-49f4-95b9-d34a418a2e37"
      },
      "execution_count": null,
      "outputs": [
        {
          "output_type": "execute_result",
          "data": {
            "text/plain": [
              "<Axes: title={'center': 'Status of Clinical Trials'}, xlabel='Status'>"
            ]
          },
          "metadata": {},
          "execution_count": 83
        },
        {
          "output_type": "display_data",
          "data": {
            "text/plain": [
              "<Figure size 640x480 with 1 Axes>"
            ],
            "image/png": "[encoded data removed]"
          },
          "metadata": {}
        }
      ]
    },
    {
      "cell_type": "code",
      "source": [
        "#Phase Distribution: Understand the distribution of trial phases."
      ],
      "metadata": {
        "id": "eckql5uBtNig"
      },
      "execution_count": null,
      "outputs": []
    },
    {
      "cell_type": "code",
      "source": [
        "print(df['Phases'].value_counts())"
      ],
      "metadata": {
        "id": "YUCV6BNrtNlf",
        "colab": {
          "base_uri": "https://localhost:8080/"
        },
        "outputId": "ac2d033e-8366-4563-e636-ae79fc2a302c"
      },
      "execution_count": null,
      "outputs": [
        {
          "output_type": "stream",
          "name": "stdout",
          "text": [
            "Phases\n",
            "Unknown            22\n",
            "Not Applicable     16\n",
            "Phase 2            12\n",
            "Phase 3            11\n",
            "Phase 1             3\n",
            "Phase 1|Phase 2     2\n",
            "Phase 2|Phase 3     2\n",
            "Early Phase 1       1\n",
            "Phase 4             1\n",
            "Name: count, dtype: int64\n"
          ]
        }
      ]
    },
    {
      "cell_type": "markdown",
      "source": [
        "### ANSWER- 3"
      ],
      "metadata": {
        "id": "vBh_Ai8fiMoG"
      }
    },
    {
      "cell_type": "code",
      "source": [
        "df['Phases'].value_counts().plot(kind='bar', title='Phase Distribution',color='red')"
      ],
      "metadata": {
        "id": "k-t_1I4_tNoT",
        "colab": {
          "base_uri": "https://localhost:8080/",
          "height": 588
        },
        "outputId": "0599e8d2-4ee7-49d2-d11d-619b7793d107"
      },
      "execution_count": null,
      "outputs": [
        {
          "output_type": "execute_result",
          "data": {
            "text/plain": [
              "<Axes: title={'center': 'Phase Distribution'}, xlabel='Phases'>"
            ]
          },
          "metadata": {},
          "execution_count": 86
        },
        {
          "output_type": "display_data",
          "data": {
            "text/plain": [
              "<Figure size 640x480 with 1 Axes>"
            ],
            "image/png": "[encoded data removed]"
          },
          "metadata": {}
        }
      ]
    },
    {
      "cell_type": "code",
      "source": [
        "print(df['Age'].value_counts())"
      ],
      "metadata": {
        "id": "mJzGeZ5otNq7",
        "colab": {
          "base_uri": "https://localhost:8080/"
        },
        "outputId": "c7b28ab4-7b48-45a9-8fef-88d9b26cd730"
      },
      "execution_count": null,
      "outputs": [
        {
          "output_type": "stream",
          "name": "stdout",
          "text": [
            "Age\n",
            "18 Years and older   (Adult, Older Adult)           34\n",
            "18 Years to 65 Years   (Adult, Older Adult)          4\n",
            "18 Years to 75 Years   (Adult, Older Adult)          3\n",
            "20 Years to 40 Years   (Adult)                       3\n",
            "18 Years to 100 Years   (Adult, Older Adult)         2\n",
            "18 Years to 80 Years   (Adult, Older Adult)          2\n",
            "18 Years to 99 Years   (Adult, Older Adult)          2\n",
            "16 Years and older   (Child, Adult, Older Adult)     2\n",
            "18 Years to 59 Years   (Adult)                       2\n",
            "Child, Adult, Older Adult                            2\n",
            "65 Years and older   (Older Adult)                   2\n",
            "18 Years to 90 Years   (Adult, Older Adult)          1\n",
            "12 Years to 25 Years   (Child, Adult)                1\n",
            "24 Years to 37 Years   (Adult)                       1\n",
            "18 Years to 70 Years   (Adult, Older Adult)          1\n",
            "up to 17 Years   (Child)                             1\n",
            "5 Years and older   (Child, Adult, Older Adult)      1\n",
            "24 Months to 18 Years   (Child, Adult)               1\n",
            "12 Years and older   (Child, Adult, Older Adult)     1\n",
            "21 Years and older   (Adult, Older Adult)            1\n",
            "18 Years to 60 Years   (Adult)                       1\n",
            "2 Years to 14 Years   (Child)                        1\n",
            "60 Years and older   (Adult, Older Adult)            1\n",
            "Name: count, dtype: int64\n"
          ]
        }
      ]
    },
    {
      "cell_type": "markdown",
      "source": [
        "### ANSWER- 4,5"
      ],
      "metadata": {
        "id": "tQCFJUoPiwvo"
      }
    },
    {
      "cell_type": "code",
      "source": [
        "# Values in Age column are unorganized and cluttered. For analysis, we need to group them"
      ],
      "metadata": {
        "id": "VK5h9eNdqvlh"
      },
      "execution_count": null,
      "outputs": []
    },
    {
      "cell_type": "code",
      "source": [
        "def age_group(age_str):\n",
        "    if pd.isnull(age_str):\n",
        "        return 'Unknown'\n",
        "    age_str = age_str.lower().strip()\n",
        "\n",
        "    if 'month' in age_str:\n",
        "        return 'Infant'\n",
        "    elif 'year' in age_str:\n",
        "        digits = ''.join([c for c in age_str if c.isdigit()])\n",
        "        if digits:\n",
        "            age = int(digits)\n",
        "            if age <= 12:\n",
        "                return 'Child'\n",
        "            elif age <= 19:\n",
        "                return 'Teen'\n",
        "            elif age <= 59:\n",
        "                return 'Adult'\n",
        "            else:\n",
        "                return 'Senior'\n",
        "        else:\n",
        "            return 'Unknown'\n",
        "    else:\n",
        "        return 'Unknown'\n",
        "\n",
        "# Apply to your column\n",
        "df['Age_Group'] = df['Age'].apply(age_group)\n",
        "\n",
        "# Plot grouped results\n",
        "import matplotlib.pyplot as plt\n",
        "df['Age_Group'].value_counts().plot(kind='bar', title='Age Group Distribution',color='red')\n",
        "plt.xlabel('Age Group')\n",
        "plt.ylabel('Count')\n",
        "plt.tight_layout()\n",
        "plt.show()\n"
      ],
      "metadata": {
        "id": "pZk78BF8tN37",
        "colab": {
          "base_uri": "https://localhost:8080/",
          "height": 487
        },
        "outputId": "dad18f37-bd16-4bdf-d73d-2af412131889"
      },
      "execution_count": null,
      "outputs": [
        {
          "output_type": "display_data",
          "data": {
            "text/plain": [
              "<Figure size 640x480 with 1 Axes>"
            ],
            "image/png": "[encoded data removed]"
          },
          "metadata": {}
        }
      ]
    },
    {
      "cell_type": "markdown",
      "source": [
        "\"\"\"\n",
        "--> [c for c in age_str if c.isdigit()]\n",
        "This is a list comprehension.\n",
        "\n",
        "It goes through each character c in the string age_str.\n",
        "\n",
        "It checks if the character is a digit using c.isdigit().\n",
        "\n",
        "If it's a digit, it includes it in the list.\n",
        "\n",
        "--> ''.join([...])\n",
        "Joins all the characters in the list into a single string.\n",
        "\n",
        "No space or separator is added between them ('' means empty string separator).\n"
      ],
      "metadata": {
        "id": "Pmumz2v6iqj8"
      }
    },
    {
      "cell_type": "code",
      "source": [
        "# Bivariate Analysis"
      ],
      "metadata": {
        "id": "0btaZakltOZ5"
      },
      "execution_count": null,
      "outputs": []
    },
    {
      "cell_type": "code",
      "source": [
        "status_phase=pd.crosstab(df['Status'],df['Phases'])\n",
        "print(status_phase)"
      ],
      "metadata": {
        "colab": {
          "base_uri": "https://localhost:8080/"
        },
        "id": "eGts7NcsoNLN",
        "outputId": "f8ffca36-45be-4ec0-f449-8b03f5bfe437"
      },
      "execution_count": null,
      "outputs": [
        {
          "output_type": "stream",
          "name": "stdout",
          "text": [
            "Phases                   Early Phase 1  Not Applicable  Phase 1  \\\n",
            "Status                                                            \n",
            "Active, not recruiting               0               1        0   \n",
            "Completed                            0               3        3   \n",
            "Enrolling by invitation              1               1        0   \n",
            "Not yet recruiting                   0               4        0   \n",
            "Recruiting                           0               7        0   \n",
            "Suspended                            0               0        0   \n",
            "Terminated                           0               0        0   \n",
            "\n",
            "Phases                   Phase 1|Phase 2  Phase 2  Phase 2|Phase 3  Phase 3  \\\n",
            "Status                                                                        \n",
            "Active, not recruiting                 0        1                0        3   \n",
            "Completed                              1        5                1        5   \n",
            "Enrolling by invitation                0        0                0        0   \n",
            "Not yet recruiting                     0        1                0        0   \n",
            "Recruiting                             0        4                1        1   \n",
            "Suspended                              1        0                0        0   \n",
            "Terminated                             0        1                0        2   \n",
            "\n",
            "Phases                   Phase 4  Unknown  \n",
            "Status                                     \n",
            "Active, not recruiting         0        2  \n",
            "Completed                      0       10  \n",
            "Enrolling by invitation        0        0  \n",
            "Not yet recruiting             0        1  \n",
            "Recruiting                     1        9  \n",
            "Suspended                      0        0  \n",
            "Terminated                     0        0  \n"
          ]
        }
      ]
    },
    {
      "cell_type": "markdown",
      "source": [
        "### ANSWER- 6"
      ],
      "metadata": {
        "id": "a4mKVdqAkagC"
      }
    },
    {
      "cell_type": "code",
      "source": [
        "\n",
        "red_shades = ['#ff9999','#ff4d4d', '#b30000','#ffe6e6', '#ff9999','#b30000', '#4d0000','#ff1a1a']\n",
        "status_phase.plot(kind='bar',stacked=True, title='Status vs Phase',color=red_shades)"
      ],
      "metadata": {
        "id": "fdMnseVUtOlD",
        "colab": {
          "base_uri": "https://localhost:8080/",
          "height": 627
        },
        "outputId": "0dda156d-ff36-424c-da2c-ecbea5e07460"
      },
      "execution_count": null,
      "outputs": [
        {
          "output_type": "execute_result",
          "data": {
            "text/plain": [
              "<Axes: title={'center': 'Status vs Phase'}, xlabel='Status'>"
            ]
          },
          "metadata": {},
          "execution_count": 93
        },
        {
          "output_type": "display_data",
          "data": {
            "text/plain": [
              "<Figure size 640x480 with 1 Axes>"
            ],
            "image/png": "[encoded data removed]"
          },
          "metadata": {}
        }
      ]
    },
    {
      "cell_type": "code",
      "source": [
        "print(df['Conditions'])"
      ],
      "metadata": {
        "id": "iaLF32JZtOn8",
        "colab": {
          "base_uri": "https://localhost:8080/"
        },
        "outputId": "d350c53b-a637-45a0-920c-29db2fd3f848"
      },
      "execution_count": null,
      "outputs": [
        {
          "output_type": "stream",
          "name": "stdout",
          "text": [
            "113                                    Sarcopenia|Covid19\n",
            "250     Covid-19|Coronavirus|Coronavirus Infections|Sa...\n",
            "283                                    Covid-19 Infection\n",
            "461                                           Coronavirus\n",
            "614                                      Covid 19 Vaccine\n",
            "                              ...                        \n",
            "5668                                       Bioequivalence\n",
            "5717                                       Bioequivalence\n",
            "5737           Actinic Keratoses|Precancerous Skin Lesion\n",
            "5765    Hiv Infections|Pregnancy Related|Sti|Mental He...\n",
            "5770                   Depression|Problematic Alcohol Use\n",
            "Name: Conditions, Length: 70, dtype: object\n"
          ]
        }
      ]
    },
    {
      "cell_type": "code",
      "source": [
        "condition_outcome = df.groupby('Conditions')['Outcome Measures']\\\n",
        "    .apply(lambda x: ', '.join(x.dropna().astype(str)))\\\n",
        "    .reset_index()\n",
        "\n",
        "print(condition_outcome)\n"
      ],
      "metadata": {
        "id": "S7oKjL0etOtc",
        "colab": {
          "base_uri": "https://localhost:8080/"
        },
        "outputId": "1eb348b6-2582-40a5-81ff-a5d0ed273779"
      },
      "execution_count": null,
      "outputs": [
        {
          "output_type": "stream",
          "name": "stdout",
          "text": [
            "                                           Conditions  \\\n",
            "0          Actinic Keratoses|Precancerous Skin Lesion   \n",
            "1   Acute Pancreatitis|Acute Pancreatic Necrosis|A...   \n",
            "2   Alcohol Consumption|Violence, Domestic|Stress,...   \n",
            "3                                      Bioequivalence   \n",
            "4   Chronic Pain|Musculoskeletal Diseases|Quality ...   \n",
            "5                        Community Acquired Pneumonia   \n",
            "6                              Corona Virus Infection   \n",
            "7   Corona Virus Infection|Acute Respiratory Distr...   \n",
            "8                                         Coronavirus   \n",
            "9   Coronavirus Disease 2019 (Covid-19)|Respirator...   \n",
            "10  Coronavirus Infection|Pneumonia, Viral|Acute R...   \n",
            "11  Coronavirus|Acute Respiratory Infection|Sars-C...   \n",
            "12                                              Covid   \n",
            "13                                  Covid 19 Positive   \n",
            "14                                   Covid 19 Vaccine   \n",
            "15                                 Covid, Coronavirus   \n",
            "16                                           Covid-19   \n",
            "17                                 Covid-19 Infection   \n",
            "18  Covid-19|Coronavirus Infection|Sars-Cov-2 Infe...   \n",
            "19  Covid-19|Coronavirus|Coronavirus Infections|Sa...   \n",
            "20                                            Covid19   \n",
            "21                                        Covid19|Aki   \n",
            "22                                       Covid19|Ards   \n",
            "23                    Covid19|Lung Function Decreased   \n",
            "24                              Covid19|Mental Health   \n",
            "25                                  Covid19|Pneumonia   \n",
            "26                                Covid19|Progression   \n",
            "27              Covid19|Sars-Cov-2 Pneumonia|Covid-19   \n",
            "28                               Covid|Ards|Pneumonia   \n",
            "29                                Covid|Safety Issues   \n",
            "30               Covid|Statin|Cardiovascular Diseases   \n",
            "31                 Depression|Problematic Alcohol Use   \n",
            "32                           Eating Behavior|Covid-19   \n",
            "33  Hiv Infections|Drug Use|Opioid Use|Opioid-Use ...   \n",
            "34  Hiv Infections|Pregnancy Related|Sti|Mental He...   \n",
            "35  Hydroxychloroquine|Antimalarials|Enzyme Inhibi...   \n",
            "36                              Hyperglycemia|Covid19   \n",
            "37                         Infection Control|Covid-19   \n",
            "38                         Loneliness|Quality Of Life   \n",
            "39                        Multiple Sclerosis|Covid-19   \n",
            "40  Pneumonia|Coronavirus Infection In 2019 (Covid...   \n",
            "41                       Post Intensive Care Syndrome   \n",
            "42  Postoperative Cognitive Dysfunction|Depressive...   \n",
            "43  Posttraumatic Stress Disorder|Traumatic Brain ...   \n",
            "44           Psychological Stress|Hemostatic Disorder   \n",
            "45               Respiratory Distress Syndrome, Adult   \n",
            "46     Respiratory Distress Syndrome, Adult|Sars-Cov2   \n",
            "47                Respiratory Viral Infection|Covid19   \n",
            "48                                 Rheumatic Diseases   \n",
            "49                                 Sarcopenia|Covid19   \n",
            "50                                    Sars-Cov 2|Ards   \n",
            "51                                   Sars-Cov 2|Covid   \n",
            "52                     Sars-Cov-2 Respiratory Failure   \n",
            "53  Severe Acute Respiratory Syndrome (Sars) Pneum...   \n",
            "54  Severe Acute Respiratory Syndrome|Ventilation ...   \n",
            "55                                            Suicide   \n",
            "56  This Is A Pilot Study Which Aims To Assess The...   \n",
            "57                  Trichuris Infection|Helminthiasis   \n",
            "\n",
            "                                     Outcome Measures  \n",
            "0   Resolution of AK Lesions Following Microwave T...  \n",
            "1   Mortality|Early Cholecystectomy or ERCP and Sp...  \n",
            "2   Intimate Partner Violence Events (Burst 1)|Int...  \n",
            "3   AUC0-tlast of Favipiravir|Cmax of Favipiravir|...  \n",
            "4   Change from Baseline Pain perception|Change fr...  \n",
            "5   Day 28 all causes mortality|Day 21 failure|In ...  \n",
            "6   Survival without needs of ventilator utilizati...  \n",
            "7   Incidence of COVID19 Disease among those who a...  \n",
            "8   Define Natural Symptom Course|Time to Hospital...  \n",
            "9   COVID-19 disease incidence|Severe COVID-19 dis...  \n",
            "10  Ventilator-free days|Evaluation of the clinica...  \n",
            "11  COVID Outcomes Scale Score on Study Day 15 (14...  \n",
            "12  Evaluation of the rate of SARS-CoV-2 positive ...  \n",
            "13  Improvement in FMTVDM Measurement with nuclear...  \n",
            "14  Compare the cumulative incidence of SARS-CoV-2...  \n",
            "15   Oxygenation index|SpO2|Symptoms level|Chest Xray  \n",
            "16  To investigate the efficacy of enoxaparin in i...  \n",
            "17  Invasive ventilation or death|Ventilation|Deat...  \n",
            "18  Proportion of Patients With a Positive SARS-Co...  \n",
            "19  To determine if the use of hydroxychloroquine ...  \n",
            "20  Change in Inflammatory Marker-CRP|Change in In...  \n",
            "21      Primary outcome:|Secondary outcomes measures:  \n",
            "22  Number of ventilator-free days (VFDs) at 28 da...  \n",
            "23  Forced vital capacity|Gas diffusion capacity o...  \n",
            "24  Loneliness as measured by the National Institu...  \n",
            "25  Secondary hospitalization(s) or death COVID-19...  \n",
            "26  Number of Participants With Progression|Viral ...  \n",
            "27  Number of Participants With Non-serious and Se...  \n",
            "28  To analyze the relationship between the prone ...  \n",
            "29  Change in facial hair between January 2020 and...  \n",
            "30  SARS-cov-2 scale of severity (9 steps) in Covi...  \n",
            "31  The Integrated Measure of Implementation Conte...  \n",
            "32  Change in weight (child)|Behaviour (child)|Beh...  \n",
            "33  Evaluate whether the intervention improves use...  \n",
            "34  Number of participants undergoing HIV testing ...  \n",
            "35  Quantification of the expression of mRNA SARS-...  \n",
            "36  Glucose levels|Number of patients who achieve ...  \n",
            "37  Changes in unobtrusive observational-based com...  \n",
            "38  Loneliness|Health-related Quality of Life|Belo...  \n",
            "39  Incidence of COVID-19 Infections within an MS ...  \n",
            "40  Rate of extubation (for intubated patients)|Cl...  \n",
            "41  Number of deaths or hospital readmissions with...  \n",
            "42  Change in perioperative cognitive trajectories...  \n",
            "43  Clinician Administered PTSD Symptom Scale for ...  \n",
            "44  evaluation of psychological stress|determine s...  \n",
            "45  28-day ventilator-free days (VFDs)|28-day ICU-...  \n",
            "46  Targeted temperature compliance|Adverse event|...  \n",
            "47  Acute Respiratory Infection necessitating work...  \n",
            "48  Mortality|Hospitalization|SARS-CoV-2 infection...  \n",
            "49  Loss of muscle mass|Prevalence of sarcopenia|N...  \n",
            "50  Change in Arterial Blood Oxygen Content to Fra...  \n",
            "51  SARS-CoV-2 infection in patients|SARS-CoV-2 in...  \n",
            "52  Time of respiratory improvement and earlier we...  \n",
            "53  Composite Primary End-point: Admission to ICU,...  \n",
            "54  Patients Who Improved Their Condition or Did N...  \n",
            "55  Change in Suicide Cognitions Scale (SCS)|Chang...  \n",
            "56            Acceptability of test|Test failure rate  \n",
            "57  Cure Rate|Egg Change Rate|Beta Tubulin Resistance  \n"
          ]
        }
      ]
    },
    {
      "cell_type": "markdown",
      "source": [
        "x.dropna() → removes NaN values.\n",
        "\n",
        ".astype(str) → converts all items to string type.\n",
        "\n",
        "', '.join(...) → now works safely.\n",
        "\n"
      ],
      "metadata": {
        "id": "afpiu_qG6fxr"
      }
    },
    {
      "cell_type": "code",
      "source": [
        "# TRIALS---"
      ],
      "metadata": {
        "id": "xQqwk1w4051c"
      },
      "execution_count": null,
      "outputs": []
    },
    {
      "cell_type": "markdown",
      "source": [
        "### ANSWER-7"
      ],
      "metadata": {
        "id": "1hTou8_nknW6"
      }
    },
    {
      "cell_type": "code",
      "source": [
        "import pandas as pd\n",
        "import matplotlib.pyplot as plt\n",
        "\n",
        "# Convert 'Start Date' to datetime\n",
        "df['Start Date'] = pd.to_datetime(df['Start Date'], errors='coerce')\n",
        "\n",
        "# Filter dates from 2019 to 2025\n",
        "df_filtered = df[(df['Start Date'].dt.year >= 2019) & (df['Start Date'].dt.year <= 2025)]\n",
        "\n",
        "# Group by month and count\n",
        "monthly_counts = df_filtered['Start Date'].dt.to_period('M').value_counts().sort_index()\n",
        "\n",
        "# Convert PeriodIndex to datetime for plotting\n",
        "monthly_counts.index = monthly_counts.index.to_timestamp()\n",
        "\n",
        "# Plot\n",
        "plt.figure(figsize=(12, 6))\n",
        "monthly_counts.plot(kind='line', color='red', marker='o')\n",
        "plt.title('Trials Started Monthly (2019–2025)', fontsize=14)\n",
        "plt.xlabel('Month')\n",
        "import pandas as pd\n",
        "import matplotlib.pyplot as plt\n",
        "\n",
        "# Convert 'Start Date' to datetime\n",
        "df['Start Date'] = pd.to_datetime(df['Start Date'], errors='coerce')\n",
        "\n",
        "# Filter dates from 2019 to 2025\n",
        "df_filtered = df[(df['Start Date'].dt.year >= 2019) & (df['Start Date'].dt.year <= 2025)]\n",
        "\n",
        "# Group by month and count\n",
        "monthly_counts = df_filtered['Start Date'].dt.to_period('M').value_counts().sort_index()\n",
        "\n",
        "# Convert PeriodIndex to datetime for plotting\n",
        "monthly_counts.index = monthly_counts.index.to_timestamp()\n",
        "\n",
        "# Plot\n",
        "plt.figure(figsize=(12, 6))\n",
        "monthly_counts.plot(kind='line', color='red', marker='o')\n",
        "plt.title('Trials Started Monthly (2019–2025)', fontsize=14)\n",
        "plt.xlabel('Month')\n",
        "plt.ylabel('Number of Trials')\n",
        "plt.grid(True)\n",
        "plt.tight_layout()\n",
        "plt.show()\n",
        "\n",
        "plt.tight_layout()\n",
        "plt.show()\n"
      ],
      "metadata": {
        "colab": {
          "base_uri": "https://localhost:8080/",
          "height": 484
        },
        "id": "iVRt716gFAZV",
        "outputId": "e8eea56a-134e-40ac-f0e1-45b2431a24eb"
      },
      "execution_count": null,
      "outputs": [
        {
          "output_type": "display_data",
          "data": {
            "text/plain": [
              "<Figure size 1200x600 with 1 Axes>"
            ],
            "image/png": "[encoded data removed]"
          },
          "metadata": {}
        }
      ]
    },
    {
      "cell_type": "markdown",
      "source": [
        "ANSWER- 8"
      ],
      "metadata": {
        "id": "GxftXzLIlGtF"
      }
    },
    {
      "cell_type": "code",
      "source": [
        "# Convert date columns to datetime\n",
        "df['Start Date'] = pd.to_datetime(df['Start Date'],\n",
        "errors='coerce')\n",
        "\n",
        "# Plot the number of trials started over time\n",
        "df['Start Date'].dt.to_period('M').value_counts().sort_index().plot(kind=\n",
        "'line', title='Trials Started Over Time',color='red')"
      ],
      "metadata": {
        "colab": {
          "base_uri": "https://localhost:8080/",
          "height": 489
        },
        "id": "beJNGOcD1Ik8",
        "outputId": "d097bc55-b1f7-451d-cc0d-cb598ce8e99e"
      },
      "execution_count": null,
      "outputs": [
        {
          "output_type": "execute_result",
          "data": {
            "text/plain": [
              "<Axes: title={'center': 'Trials Started Over Time'}, xlabel='Start Date'>"
            ]
          },
          "metadata": {},
          "execution_count": 97
        },
        {
          "output_type": "display_data",
          "data": {
            "text/plain": [
              "<Figure size 640x480 with 1 Axes>"
            ],
            "image/png": "[encoded data removed]"
          },
          "metadata": {}
        }
      ]
    },
    {
      "cell_type": "markdown",
      "source": [
        "ANSWER- 9"
      ],
      "metadata": {
        "id": "GvRc_R-JlKLe"
      }
    },
    {
      "cell_type": "code",
      "source": [
        "df['Primary Completion Date'] = pd.to_datetime(df['Primary Completion Date'], errors='coerce')\n",
        "df['Primary Completion Date'].dt.to_period('M').value_counts().sort_index().plot(kind='line', title='Trials Primary Completion Date',color='red')"
      ],
      "metadata": {
        "colab": {
          "base_uri": "https://localhost:8080/",
          "height": 489
        },
        "id": "c-l4DW-L1Ins",
        "outputId": "987474d5-1fd9-4e04-b16a-962aca71ddb8"
      },
      "execution_count": null,
      "outputs": [
        {
          "output_type": "execute_result",
          "data": {
            "text/plain": [
              "<Axes: title={'center': 'Trials Primary Completion Date'}, xlabel='Primary Completion Date'>"
            ]
          },
          "metadata": {},
          "execution_count": 98
        },
        {
          "output_type": "display_data",
          "data": {
            "text/plain": [
              "<Figure size 640x480 with 1 Axes>"
            ],
            "image/png": "[encoded data removed]"
          },
          "metadata": {}
        }
      ]
    },
    {
      "cell_type": "markdown",
      "source": [
        "ANSWER- 10"
      ],
      "metadata": {
        "id": "A6q1aEP6lM3J"
      }
    },
    {
      "cell_type": "code",
      "source": [
        "df['Completion Date'] = pd.to_datetime(df['Completion Date'], errors='coerce')\n",
        "df['Completion Date'].dt.to_period('M').value_counts().sort_index().plot(kind='line', title='Trials Completion Date',color='red')"
      ],
      "metadata": {
        "colab": {
          "base_uri": "https://localhost:8080/",
          "height": 489
        },
        "id": "SK5yvpM81Iqy",
        "outputId": "890c9087-2a3d-49eb-87f3-db7c86de6157"
      },
      "execution_count": null,
      "outputs": [
        {
          "output_type": "execute_result",
          "data": {
            "text/plain": [
              "<Axes: title={'center': 'Trials Completion Date'}, xlabel='Completion Date'>"
            ]
          },
          "metadata": {},
          "execution_count": 99
        },
        {
          "output_type": "display_data",
          "data": {
            "text/plain": [
              "<Figure size 640x480 with 1 Axes>"
            ],
            "image/png": "[encoded data removed]"
          },
          "metadata": {}
        }
      ]
    },
    {
      "cell_type": "markdown",
      "source": [
        "### ANSWER- 11"
      ],
      "metadata": {
        "id": "Uq3y7yD0lSmi"
      }
    },
    {
      "cell_type": "code",
      "source": [
        "import pandas as pd\n",
        "import matplotlib.pyplot as plt\n",
        "\n",
        "# Convert to datetime\n",
        "df['Start Date'] = pd.to_datetime(df['Start Date'], errors='coerce')\n",
        "df['Primary Completion Date'] = pd.to_datetime(df['Primary Completion Date'], errors='coerce')\n",
        "df['Completion Date'] = pd.to_datetime(df['Completion Date'], errors='coerce')\n",
        "\n",
        "# Define function for grouping years\n",
        "def year_group(date):\n",
        "    if pd.isna(date):\n",
        "        return 'Unknown'\n",
        "    year = date.year\n",
        "    if year < 2000:\n",
        "        return 'Before 2000'\n",
        "    elif year < 2005:\n",
        "        return '2000–2004'\n",
        "    elif year < 2010:\n",
        "        return '2005–2009'\n",
        "    elif year < 2015:\n",
        "        return '2010–2014'\n",
        "    elif year < 2020:\n",
        "        return '2015–2019'\n",
        "    elif year < 2025:\n",
        "        return '2020–2024'\n",
        "    else:\n",
        "        return '2025+'\n",
        "\n",
        "# Apply grouping\n",
        "df['Start Group'] = df['Start Date'].apply(year_group)\n",
        "df['Primary Group'] = df['Primary Completion Date'].apply(year_group)\n",
        "df['Completion Group'] = df['Completion Date'].apply(year_group)\n",
        "\n",
        "# Count each date type by year group\n",
        "start_counts = df['Start Group'].value_counts()\n",
        "primary_counts = df['Primary Group'].value_counts()\n",
        "completion_counts = df['Completion Group'].value_counts()\n",
        "\n",
        "# Merge counts into one DataFrame\n",
        "all_years = ['Before 2000', '2000–2004', '2005–2009', '2010–2014', '2015–2019', '2020–2024', '2025+', 'Unknown']\n",
        "grouped_counts = pd.DataFrame({\n",
        "    'Start Date': start_counts,\n",
        "    'Primary Completion Date': primary_counts,\n",
        "    'Completion Date': completion_counts\n",
        "}).reindex(all_years).fillna(0).astype(int)\n",
        "\n",
        "# Plot\n",
        "\n",
        "red_shades = ['#ff9999', '#ff4d4d', '#b30000']\n",
        "grouped_counts.plot(kind='bar', stacked=True, figsize=(10, 6),color=red_shades)\n",
        "plt.title('Count of Trials by Date Type and Year Group')\n",
        "plt.xlabel('Year Group')\n",
        "plt.ylabel('Number of Trials')\n",
        "plt.legend(title='Date Type')\n",
        "plt.xticks(rotation=45)\n",
        "plt.tight_layout()\n",
        "plt.grid(axis='y', linestyle='--', alpha=0.5)\n",
        "plt.show()\n"
      ],
      "metadata": {
        "colab": {
          "base_uri": "https://localhost:8080/",
          "height": 578
        },
        "id": "E_plOxAR1Iel",
        "outputId": "2ab26913-ed8a-4c9e-9490-e1ba2043a9c2"
      },
      "execution_count": null,
      "outputs": [
        {
          "output_type": "display_data",
          "data": {
            "text/plain": [
              "<Figure size 1000x600 with 1 Axes>"
            ],
            "image/png": "[encoded data removed]"
          },
          "metadata": {}
        }
      ]
    },
    {
      "cell_type": "markdown",
      "source": [
        "### ANSWER- 12"
      ],
      "metadata": {
        "id": "R6P7fENFmRwh"
      }
    },
    {
      "cell_type": "code",
      "source": [
        "import matplotlib.pyplot as plt\n",
        "\n",
        "# Gender Visualizations\n",
        "gender = df['Gender'].value_counts()\n",
        "\n",
        "plt.figure(figsize=(6, 4))\n",
        "gender.plot(kind='bar', color='red')\n",
        "plt.title('Gender Distribution')\n",
        "plt.xlabel('Gender')\n",
        "plt.ylabel('Density')\n",
        "plt.tight_layout()\n",
        "plt.show()\n"
      ],
      "metadata": {
        "colab": {
          "base_uri": "https://localhost:8080/",
          "height": 407
        },
        "id": "8_qyrC91hxPM",
        "outputId": "2719723f-c39a-4d06-b7cf-8b6b445c4406"
      },
      "execution_count": null,
      "outputs": [
        {
          "output_type": "display_data",
          "data": {
            "text/plain": [
              "<Figure size 600x400 with 1 Axes>"
            ],
            "image/png": "[encoded data removed]"
          },
          "metadata": {}
        }
      ]
    },
    {
      "cell_type": "markdown",
      "source": [
        "ANSWER- 13"
      ],
      "metadata": {
        "id": "X1D9ipV8mvNl"
      }
    },
    {
      "cell_type": "code",
      "source": [
        "import pandas as pd\n",
        "import matplotlib.pyplot as plt\n",
        "\n",
        "# Extract month from 'Start Date' column\n",
        "start_month = pd.to_datetime(df['Start Date'], errors='coerce').dt.to_period('M').astype(str)\n",
        "\n",
        "# Count the frequency of each start month\n",
        "start_month_distribution = start_month.value_counts().sort_index()\n",
        "\n",
        "# Plot the start month distribution\n",
        "plt.figure(figsize=(10, 5))\n",
        "start_month_distribution.plot(kind='bar', color='red')\n",
        "plt.title('Start Month Distribution')\n",
        "plt.xlabel('Month')\n",
        "plt.ylabel('Density')\n",
        "plt.xticks(rotation=45)\n",
        "plt.tight_layout()\n",
        "plt.show()\n"
      ],
      "metadata": {
        "colab": {
          "base_uri": "https://localhost:8080/",
          "height": 483
        },
        "id": "2n4BI0Cfh_IG",
        "outputId": "a227953b-57bb-4574-c788-c1da311e53c4"
      },
      "execution_count": null,
      "outputs": [
        {
          "output_type": "display_data",
          "data": {
            "text/plain": [
              "<Figure size 1000x500 with 1 Axes>"
            ],
            "image/png": "[encoded data removed]"
          },
          "metadata": {}
        }
      ]
    },
    {
      "cell_type": "code",
      "source": [
        "print(f\"The shape of data frame is {df.shape}\")\n",
        "print(f\"Nunique in NCT Number is {df['NCT Number'].nunique()}\")\n",
        "print(f\"Nunique in URL is {df.URL.nunique()}\")"
      ],
      "metadata": {
        "colab": {
          "base_uri": "https://localhost:8080/"
        },
        "id": "UKVqXkm4gYoY",
        "outputId": "2b35eefe-a53f-4566-8364-225c9d82c672"
      },
      "execution_count": null,
      "outputs": [
        {
          "output_type": "stream",
          "name": "stdout",
          "text": [
            "The shape of data frame is (70, 31)\n",
            "Nunique in NCT Number is 70\n",
            "Nunique in URL is 70\n"
          ]
        }
      ]
    },
    {
      "cell_type": "code",
      "source": [
        "# Save the cleaned data\n",
        "df.to_csv('cleaned_covid_clinical_trials.csv', index=False) anisha jain is a CEO of an edTech venture."
      ],
      "metadata": {
        "id": "EVRy2KVj1Itp"
      },
      "execution_count": null,
      "outputs": []
    },
    {
      "cell_type": "code",
      "source": [],
      "metadata": {
        "id": "WQzHygeKv6sM"
      },
      "execution_count": null,
      "outputs": []
    },
    {
      "cell_type": "markdown",
      "source": [
        "# CONCLUSION"
      ],
      "metadata": {
        "id": "tBvq0xUvzBKf"
      }
    },
    {
      "cell_type": "markdown",
      "source": [
        "-The majority of trials are in the \"Completed\" phase.\n",
        "\n",
        "-The rise of covid was majorly seen in between 2020-2024.\n",
        "\n",
        "-Then the cases r being reported even in the year 2025.\n",
        "\n",
        "-Most trials target teen populations.\n",
        "\n",
        "-The second most affected category of population are seniors.\n",
        "\n",
        "-Infants have very little risk of exposure to Covid-19.\n",
        "\n",
        "-There's a steady increase in the number of trials over time.\n",
        "\n",
        "-The male category is typically seen to be more exposed to the epidemic.\n",
        "\n",
        "-The maximum number of Covid-19 cases were reported during April, 2020."
      ],
      "metadata": {
        "id": "x0Q38XW77O4e"
      }
    },
    {
      "cell_type": "code",
      "source": [],
      "metadata": {
        "id": "58_b4onIt0dN"
      },
      "execution_count": null,
      "outputs": []
    },
    {
      "cell_type": "code",
      "source": [],
      "metadata": {
        "id": "JYkobi8yvKoI"
      },
      "execution_count": null,
      "outputs": []
    },
    {
      "cell_type": "code",
      "source": [],
      "metadata": {
        "id": "7XxK_P-mt0pY"
      },
      "execution_count": null,
      "outputs": []
    },
    {
      "cell_type": "code",
      "source": [],
      "metadata": {
        "id": "tGKxNH0mt09n"
      },
      "execution_count": null,
      "outputs": []
    },
    {
      "cell_type": "code",
      "source": [],
      "metadata": {
        "id": "5eb4tDFHt1S3"
      },
      "execution_count": null,
      "outputs": []
    }
  ]
}